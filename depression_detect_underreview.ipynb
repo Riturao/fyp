{
  "nbformat": 4,
  "nbformat_minor": 0,
  "metadata": {
    "kernelspec": {
      "display_name": "Python 3",
      "language": "python",
      "name": "python3"
    },
    "language_info": {
      "codemirror_mode": {
        "name": "ipython",
        "version": 3
      },
      "file_extension": ".py",
      "mimetype": "text/x-python",
      "name": "python",
      "nbconvert_exporter": "python",
      "pygments_lexer": "ipython3",
      "version": "3.7.6"
    },
    "colab": {
      "name": "depression_detect1.ipynb",
      "provenance": [],
      "collapsed_sections": [],
      "include_colab_link": true
    }
  },
  "cells": [
    {
      "cell_type": "markdown",
      "metadata": {
        "id": "view-in-github",
        "colab_type": "text"
      },
      "source": [
        "<a href=\"https://colab.research.google.com/github/Riturao/fyp/blob/master/depression_detect_underreview.ipynb\" target=\"_parent\"><img src=\"https://colab.research.google.com/assets/colab-badge.svg\" alt=\"Open In Colab\"/></a>"
      ]
    },
    {
      "cell_type": "code",
      "metadata": {
        "id": "ej59Db-OAoML",
        "colab_type": "code",
        "outputId": "9fc18902-5ccc-43a6-ff86-8efeac6e4410",
        "colab": {
          "base_uri": "https://localhost:8080/",
          "height": 539
        }
      },
      "source": [
        "%matplotlib inline\n",
        "import matplotlib.pyplot as plt\n",
        "#import ost as mi\n",
        "import re\n",
        "import numpy as np\n",
        "import pandas as pd\n",
        "#from chart_studio import plotly as py\n",
        "#import plotly.figure_factory as ff\n",
        "from scipy import stats\n",
        "\n",
        "import gensim\n",
        "import json\n",
        "\n",
        "\n",
        "import nltk\n",
        "from nltk.stem import WordNetLemmatizer\n",
        "from nltk.corpus import stopwords\n",
        "from nltk.tokenize import word_tokenize\n",
        "from nltk.stem import PorterStemmer\n",
        "\n",
        "import itertools\n",
        "\n",
        "import keras\n",
        "\n",
        "from keras.models import Sequential, Model\n",
        "from keras.layers import Dense, Dropout, Embedding, LSTM, Input, Activation, GlobalAveragePooling1D, Flatten, Concatenate, Conv1D, MaxPooling1D\n",
        "from keras.layers.normalization import BatchNormalization\n",
        "from keras.layers.merge import concatenate\n",
        "from keras.optimizers import SGD, RMSprop, Adagrad, Adam\n",
        "from keras.preprocessing.text import one_hot, text_to_word_sequence, Tokenizer\n",
        "from keras.preprocessing.sequence import pad_sequences\n",
        "\n",
        "from keras.callbacks import EarlyStopping, ModelCheckpoint\n",
        "from keras.utils.vis_utils import plot_model\n",
        "\n",
        "import fnmatch\n",
        "\n",
        "import warnings\n",
        "\n",
        "import string\n",
        "from pathlib import Path\n",
        "from random import shuffle\n",
        "from ast import literal_eval\n",
        "\n",
        "warnings.filterwarnings('ignore')\n",
        "\n"
      ],
      "execution_count": 0,
      "outputs": [
        {
          "output_type": "stream",
          "text": [
            "Using TensorFlow backend.\n",
            "/usr/local/lib/python3.6/dist-packages/tensorflow/python/framework/dtypes.py:516: FutureWarning: Passing (type, 1) or '1type' as a synonym of type is deprecated; in a future version of numpy, it will be understood as (type, (1,)) / '(1,)type'.\n",
            "  _np_qint8 = np.dtype([(\"qint8\", np.int8, 1)])\n",
            "/usr/local/lib/python3.6/dist-packages/tensorflow/python/framework/dtypes.py:517: FutureWarning: Passing (type, 1) or '1type' as a synonym of type is deprecated; in a future version of numpy, it will be understood as (type, (1,)) / '(1,)type'.\n",
            "  _np_quint8 = np.dtype([(\"quint8\", np.uint8, 1)])\n",
            "/usr/local/lib/python3.6/dist-packages/tensorflow/python/framework/dtypes.py:518: FutureWarning: Passing (type, 1) or '1type' as a synonym of type is deprecated; in a future version of numpy, it will be understood as (type, (1,)) / '(1,)type'.\n",
            "  _np_qint16 = np.dtype([(\"qint16\", np.int16, 1)])\n",
            "/usr/local/lib/python3.6/dist-packages/tensorflow/python/framework/dtypes.py:519: FutureWarning: Passing (type, 1) or '1type' as a synonym of type is deprecated; in a future version of numpy, it will be understood as (type, (1,)) / '(1,)type'.\n",
            "  _np_quint16 = np.dtype([(\"quint16\", np.uint16, 1)])\n",
            "/usr/local/lib/python3.6/dist-packages/tensorflow/python/framework/dtypes.py:520: FutureWarning: Passing (type, 1) or '1type' as a synonym of type is deprecated; in a future version of numpy, it will be understood as (type, (1,)) / '(1,)type'.\n",
            "  _np_qint32 = np.dtype([(\"qint32\", np.int32, 1)])\n",
            "/usr/local/lib/python3.6/dist-packages/tensorflow/python/framework/dtypes.py:525: FutureWarning: Passing (type, 1) or '1type' as a synonym of type is deprecated; in a future version of numpy, it will be understood as (type, (1,)) / '(1,)type'.\n",
            "  np_resource = np.dtype([(\"resource\", np.ubyte, 1)])\n",
            "/usr/local/lib/python3.6/dist-packages/tensorboard/compat/tensorflow_stub/dtypes.py:541: FutureWarning: Passing (type, 1) or '1type' as a synonym of type is deprecated; in a future version of numpy, it will be understood as (type, (1,)) / '(1,)type'.\n",
            "  _np_qint8 = np.dtype([(\"qint8\", np.int8, 1)])\n",
            "/usr/local/lib/python3.6/dist-packages/tensorboard/compat/tensorflow_stub/dtypes.py:542: FutureWarning: Passing (type, 1) or '1type' as a synonym of type is deprecated; in a future version of numpy, it will be understood as (type, (1,)) / '(1,)type'.\n",
            "  _np_quint8 = np.dtype([(\"quint8\", np.uint8, 1)])\n",
            "/usr/local/lib/python3.6/dist-packages/tensorboard/compat/tensorflow_stub/dtypes.py:543: FutureWarning: Passing (type, 1) or '1type' as a synonym of type is deprecated; in a future version of numpy, it will be understood as (type, (1,)) / '(1,)type'.\n",
            "  _np_qint16 = np.dtype([(\"qint16\", np.int16, 1)])\n",
            "/usr/local/lib/python3.6/dist-packages/tensorboard/compat/tensorflow_stub/dtypes.py:544: FutureWarning: Passing (type, 1) or '1type' as a synonym of type is deprecated; in a future version of numpy, it will be understood as (type, (1,)) / '(1,)type'.\n",
            "  _np_quint16 = np.dtype([(\"quint16\", np.uint16, 1)])\n",
            "/usr/local/lib/python3.6/dist-packages/tensorboard/compat/tensorflow_stub/dtypes.py:545: FutureWarning: Passing (type, 1) or '1type' as a synonym of type is deprecated; in a future version of numpy, it will be understood as (type, (1,)) / '(1,)type'.\n",
            "  _np_qint32 = np.dtype([(\"qint32\", np.int32, 1)])\n",
            "/usr/local/lib/python3.6/dist-packages/tensorboard/compat/tensorflow_stub/dtypes.py:550: FutureWarning: Passing (type, 1) or '1type' as a synonym of type is deprecated; in a future version of numpy, it will be understood as (type, (1,)) / '(1,)type'.\n",
            "  np_resource = np.dtype([(\"resource\", np.ubyte, 1)])\n"
          ],
          "name": "stderr"
        },
        {
          "output_type": "display_data",
          "data": {
            "text/html": [
              "<p style=\"color: red;\">\n",
              "The default version of TensorFlow in Colab will switch to TensorFlow 2.x on the 27th of March, 2020.<br>\n",
              "We recommend you <a href=\"https://www.tensorflow.org/guide/migrate\" target=\"_blank\">upgrade</a> now\n",
              "or ensure your notebook will continue to use TensorFlow 1.x via the <code>%tensorflow_version 1.x</code> magic:\n",
              "<a href=\"https://colab.research.google.com/notebooks/tensorflow_version.ipynb\" target=\"_blank\">more info</a>.</p>\n"
            ],
            "text/plain": [
              "<IPython.core.display.HTML object>"
            ]
          },
          "metadata": {
            "tags": []
          }
        }
      ]
    },
    {
      "cell_type": "code",
      "metadata": {
        "id": "MJU-ByiwAoMS",
        "colab_type": "code",
        "colab": {}
      },
      "source": [
        "wordnet_lemmatizer = WordNetLemmatizer()"
      ],
      "execution_count": 0,
      "outputs": []
    },
    {
      "cell_type": "code",
      "metadata": {
        "id": "aWoE-u_8AoMW",
        "colab_type": "code",
        "colab": {}
      },
      "source": [
        "WINDOWS_SIZE = 10\n",
        "labels=['none','mild','moderate','moderately severe', 'severe']\n",
        "num_classes = len(labels)"
      ],
      "execution_count": 0,
      "outputs": []
    },
    {
      "cell_type": "code",
      "metadata": {
        "id": "R1KPZY71AoMZ",
        "colab_type": "code",
        "outputId": "064f31d8-a9d7-44ed-de21-91b5028ea907",
        "colab": {
          "base_uri": "https://localhost:8080/",
          "height": 34
        }
      },
      "source": [
        "def plot_acc(history, title=\"Model Accuracy\"):\n",
        "    #plt.plot(history.history['accuracy'])\n",
        "    #plt.plot(history.history['val_accuracy'])\n",
        "\n",
        "    plt.plot(history.history['acc'])\n",
        "    plt.plot(history.history['val_acc'])\n",
        "    plt.title(title)\n",
        "    plt.ylabel('Acc')\n",
        "    \n",
        "    #plt.title(title)\n",
        "    #plt.ylabel('Accuracy')\n",
        "    plt.xlabel('Epoch')\n",
        "    plt.legend(['Train', 'Val'], loc='upper left')\n",
        "    plt.show()\n",
        "    \n",
        "def plot_loss(history, title=\"Model Loss\"):\n",
        "    plt.plot(history.history['loss'])\n",
        "    plt.plot(history.history['val_loss'])\n",
        "    plt.title(title)\n",
        "    plt.ylabel('Loss')\n",
        "    plt.xlabel('Epoch')\n",
        "    plt.legend(['Train', 'Val'], loc='upper right')\n",
        "    plt.show()\n",
        "    \n",
        "def plot_compare_losses(history1, history2, name1=\"Red 1\", name2=\"Red 2\", title=\"Graph title\"):\n",
        "    plt.plot(history1.history['loss'], color=\"green\")\n",
        "    plt.plot(history1.history['val_loss'], 'r--', color=\"green\")\n",
        "    plt.plot(history2.history['loss'], color=\"blue\")\n",
        "    plt.plot(history2.history['val_loss'], 'r--', color=\"blue\")\n",
        "    plt.title(title)\n",
        "    plt.ylabel('Loss')\n",
        "    plt.xlabel('Epoch')\n",
        "    plt.legend(['Train ' + name1, 'Val ' + name1, \n",
        "                'Train ' + name2, 'Val ' + name2],\n",
        "               loc='upper right')\n",
        "    plt.show()\n",
        "    \n",
        "def plot_compare_accs(history1, history2, name1=\"Red 1\",\n",
        "                      name2=\"Red 2\", title=\"Graph title\"):\n",
        "    \"\"\"Compara accuracies de dos entrenamientos con nombres name1 y name2\"\"\"\n",
        "    plt.plot(history1.history['acc'], color=\"green\")\n",
        "    plt.plot(history1.history['val_acc'], 'r--', color=\"green\")\n",
        "    plt.plot(history2.history['acc'], color=\"blue\")\n",
        "    plt.plot(history2.history['val_acc'], 'r--', color=\"blue\")\n",
        "    plt.title(title)\n",
        "    plt.ylabel('Accuracy')\n",
        "    plt.xlabel('Epoch')\n",
        "    plt.legend(['Train ' + name1, 'Val ' + name1, \n",
        "                'Train ' + name2, 'Val ' + name2], \n",
        "               loc='lower right')\n",
        "    plt.show()\n",
        "\n",
        "def plot_compare_multiple_metrics(history_array, names, colors, title=\"Graph title\", metric='acc'):  \n",
        "    legend = []\n",
        "    for i in range(0, len(history_array)):\n",
        "        plt.plot(history_array[i].history[metric], color=colors[i])\n",
        "        plt.plot(history_array[i].history['val_' + metric], 'r--', color=colors[i])\n",
        "        legend.append('Train ' + names[i])\n",
        "        legend.append('Val ' + names[i])\n",
        "    \n",
        "    plt.title(title)\n",
        "    plt.ylabel('Accuracy')\n",
        "    plt.xlabel('Epoch')   \n",
        "    plt.axis\n",
        "    plt.legend(legend, \n",
        "               loc='lower right')\n",
        "    plt.show()"
      ],
      "execution_count": 0,
      "outputs": [
        {
          "output_type": "stream",
          "text": [
            "ERROR! Session/line number was not unique in database. History logging moved to new session 65\n"
          ],
          "name": "stdout"
        }
      ]
    },
    {
      "cell_type": "code",
      "metadata": {
        "id": "w9P4uiHrAoMb",
        "colab_type": "code",
        "colab": {}
      },
      "source": [
        "def transcripts_to_dataframe(directory):\n",
        "    rows_list = []\n",
        "        \n",
        "    filenames = os.listdir(directory)\n",
        "    \n",
        "    if \".DS_Store\" in filenames:\n",
        "        filenames.remove(\".DS_Store\")\n",
        "        \n",
        "    for filename in filenames:\n",
        "        \n",
        "        transcript_path = os.path.join(directory, filename)\n",
        "        transcript = pd.read_csv(transcript_path , sep='\\t')\n",
        "        #print(transcript)\n",
        "        m = re.search(\"(\\d{3})_TRANSCRIPT.csv\", filename)\n",
        "        if m:\n",
        "            print(filename)\n",
        "            person_id = m.group(1)\n",
        "            #print(person_id)\n",
        "            p = {}\n",
        "            question = \"\"\n",
        "            answer = \"\"\n",
        "            lines = len(transcript)\n",
        "            #print(lines)\n",
        "            for i in range(0, lines):\n",
        "                #print(\"entered\")\n",
        "                row = transcript.iloc[i]\n",
        "                #print(row)\n",
        "                if (row[\"speaker\"] == \"Ellie\") or (i == lines - 1):\n",
        "                    p[\"personId\"] = person_id\n",
        "                    #print(p)\n",
        "                    if \"(\" in str(question):\n",
        "                        question = question[question.index(\"(\") + 1:question.index(\")\")]\n",
        "                    p[\"question\"] = question\n",
        "                    p[\"answer\"] = answer\n",
        "                    #print(answer)\n",
        "                    #print(p)\n",
        "                    if question != \"\":\n",
        "                        rows_list.append(p)\n",
        "                        #print(rows_list())\n",
        "                    p = {}\n",
        "                    answer = \"\"\n",
        "                    question = row[\"value\"]\n",
        "                else:\n",
        "                    answer = str(answer) + \" \" + str(row[\"value\"])\n",
        "                    #print(1)\n",
        "                #print(answer)\n",
        "\n",
        "    all_participants = pd.DataFrame(rows_list, columns=['personId', 'question', 'answer'])\n",
        "    #all_participants = pd.DataFrame(*p, columns=['personId', 'question', 'answer'])\n",
        "    all_participants.to_csv(directory + 'all/all.csv', sep=',')\n",
        "    print(\"File was created\")\n",
        "    return all_participants"
      ],
      "execution_count": 0,
      "outputs": []
    },
    {
      "cell_type": "code",
      "metadata": {
        "id": "7tuMyC55Ayef",
        "colab_type": "code",
        "outputId": "56d029a9-27bd-45b6-e4d4-d4a6d6f238c5",
        "colab": {
          "resources": {
            "http://localhost:8080/nbextensions/google.colab/files.js": {
              "data": "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",
              "ok": true,
              "headers": [
                [
                  "content-type",
                  "application/javascript"
                ]
              ],
              "status": 200,
              "status_text": ""
            }
          },
          "base_uri": "https://localhost:8080/",
          "height": 39
        }
      },
      "source": [
        "from google.colab import files\n",
        "\n",
        "uploaded = files.upload()"
      ],
      "execution_count": 0,
      "outputs": [
        {
          "output_type": "display_data",
          "data": {
            "text/html": [
              "\n",
              "     <input type=\"file\" id=\"files-75ce70be-4f94-4c1b-9df1-fb851b4aa9c2\" name=\"files[]\" multiple disabled />\n",
              "     <output id=\"result-75ce70be-4f94-4c1b-9df1-fb851b4aa9c2\">\n",
              "      Upload widget is only available when the cell has been executed in the\n",
              "      current browser session. Please rerun this cell to enable.\n",
              "      </output>\n",
              "      <script src=\"/nbextensions/google.colab/files.js\"></script> "
            ],
            "text/plain": [
              "<IPython.core.display.HTML object>"
            ]
          },
          "metadata": {
            "tags": []
          }
        }
      ]
    },
    {
      "cell_type": "code",
      "metadata": {
        "id": "smdffqJHA3D4",
        "colab_type": "code",
        "colab": {}
      },
      "source": [
        "\n",
        "\n",
        "for fn in uploaded.keys():\n",
        "  print('User uploaded file \"{name}\" with length {length} bytes'.format(\n",
        "      name=fn, length=len(uploaded[fn])))"
      ],
      "execution_count": 0,
      "outputs": []
    },
    {
      "cell_type": "code",
      "metadata": {
        "id": "KDRhxAK5AoMe",
        "colab_type": "code",
        "colab": {}
      },
      "source": [
        "#data_path = r\"C:/Users/Admin/Desktop/transcripts/\"\n",
        "#transcripts_to_dataframe(data_path) \n",
        "all_participants = pd.read_csv('all.csv', sep=',')\n",
        "#all_participants= pd.read_csv(data_path + '*_TRANSCRIPT.csv', sep=',')\n",
        "#all_participants = pd.concat([pd.read_csv(f) for f in glob.glob('*_TRANSCRIPT.csv')], ignore_index = True)#"
      ],
      "execution_count": 0,
      "outputs": []
    },
    {
      "cell_type": "code",
      "metadata": {
        "scrolled": true,
        "id": "kvQi8eLNAoMh",
        "colab_type": "code",
        "outputId": "b5b3f81e-7365-4e1b-c5be-e39042961461",
        "colab": {
          "base_uri": "https://localhost:8080/",
          "height": 198
        }
      },
      "source": [
        "all_participants.tail() "
      ],
      "execution_count": 0,
      "outputs": [
        {
          "output_type": "execute_result",
          "data": {
            "text/html": [
              "<div>\n",
              "<style scoped>\n",
              "    .dataframe tbody tr th:only-of-type {\n",
              "        vertical-align: middle;\n",
              "    }\n",
              "\n",
              "    .dataframe tbody tr th {\n",
              "        vertical-align: top;\n",
              "    }\n",
              "\n",
              "    .dataframe thead th {\n",
              "        text-align: right;\n",
              "    }\n",
              "</style>\n",
              "<table border=\"1\" class=\"dataframe\">\n",
              "  <thead>\n",
              "    <tr style=\"text-align: right;\">\n",
              "      <th></th>\n",
              "      <th>Unnamed: 0</th>\n",
              "      <th>personId</th>\n",
              "      <th>question</th>\n",
              "      <th>answer</th>\n",
              "    </tr>\n",
              "  </thead>\n",
              "  <tbody>\n",
              "    <tr>\n",
              "      <th>14968</th>\n",
              "      <td>14968</td>\n",
              "      <td>492</td>\n",
              "      <td>mm</td>\n",
              "      <td>NaN</td>\n",
              "    </tr>\n",
              "    <tr>\n",
              "      <th>14969</th>\n",
              "      <td>14969</td>\n",
              "      <td>492</td>\n",
              "      <td>what are you most proud of in your life</td>\n",
              "      <td>um i am very proud of the fact that uh i don'...</td>\n",
              "    </tr>\n",
              "    <tr>\n",
              "      <th>14970</th>\n",
              "      <td>14970</td>\n",
              "      <td>492</td>\n",
              "      <td>okay i think i have asked everything i need to</td>\n",
              "      <td>NaN</td>\n",
              "    </tr>\n",
              "    <tr>\n",
              "      <th>14971</th>\n",
              "      <td>14971</td>\n",
              "      <td>492</td>\n",
              "      <td>thanks for sharing your thoughts with me</td>\n",
              "      <td>NaN</td>\n",
              "    </tr>\n",
              "    <tr>\n",
              "      <th>14972</th>\n",
              "      <td>14972</td>\n",
              "      <td>492</td>\n",
              "      <td>goodbye</td>\n",
              "      <td>bye and thank you</td>\n",
              "    </tr>\n",
              "  </tbody>\n",
              "</table>\n",
              "</div>"
            ],
            "text/plain": [
              "       Unnamed: 0  ...                                             answer\n",
              "14968       14968  ...                                                NaN\n",
              "14969       14969  ...   um i am very proud of the fact that uh i don'...\n",
              "14970       14970  ...                                                NaN\n",
              "14971       14971  ...                                                NaN\n",
              "14972       14972  ...                                  bye and thank you\n",
              "\n",
              "[5 rows x 4 columns]"
            ]
          },
          "metadata": {
            "tags": []
          },
          "execution_count": 9
        }
      ]
    },
    {
      "cell_type": "code",
      "metadata": {
        "id": "TQBtYDKiAoMm",
        "colab_type": "code",
        "colab": {}
      },
      "source": [
        "all_participants.columns =  ['index','personId', 'question', 'answer']\n",
        "all_participants = all_participants.astype({\"index\": int, \"personId\": float, \"question\": str, \"answer\": str })"
      ],
      "execution_count": 0,
      "outputs": []
    },
    {
      "cell_type": "code",
      "metadata": {
        "id": "1d6KqqFyAoMo",
        "colab_type": "code",
        "colab": {}
      },
      "source": [
        "#all_participants = pd.DataFrame(columns=['index','personId', 'question', 'answer'])\n",
        "all_participants.columns =  ['index','personId', 'question', 'answer']\n",
        "all_participants = all_participants.astype({\"index\": int, \"personId\": float, \"question\": str, \"answer\": str })"
      ],
      "execution_count": 0,
      "outputs": []
    },
    {
      "cell_type": "code",
      "metadata": {
        "id": "0RNGJHe_AoMr",
        "colab_type": "code",
        "colab": {}
      },
      "source": [
        "def text_to_wordlist(text, remove_stopwords=True, stem_words=False):    \n",
        "    # Clean the text, with the option to remove stopwords and to stem words.\n",
        "    \n",
        "    # Convert words to lower case and split them\n",
        "    text = text.lower().split()\n",
        "\n",
        "    # Optionally, remove stop words\n",
        "    if remove_stopwords:\n",
        "        stops = set(stopwords.words(\"english\"))\n",
        "        text = [wordnet_lemmatizer.lemmatize(w) for w in text if not w in stops ]\n",
        "        text = [w for w in text if w != \"nan\" ]\n",
        "    else:\n",
        "        text = [wordnet_lemmatizer.lemmatize(w) for w in text]\n",
        "        text = [w for w in text if w != \"nan\" ]\n",
        "    \n",
        "    text = \" \".join(text)\n",
        "\n",
        "    # Clean the text\n",
        "    text = re.sub(r\"[^A-Za-z0-9^,!.\\/'+-=]\", \" \", text)\n",
        "    text = re.sub(r\"what's\", \"what is \", text)\n",
        "    text = re.sub(r\"\\'s\", \" \", text)\n",
        "    text = re.sub(r\"\\'ve\", \" have \", text)\n",
        "    text = re.sub(r\"can't\", \"cannot \", text)\n",
        "    text = re.sub(r\"n't\", \" not \", text)\n",
        "    text = re.sub(r\"i'm\", \"i am \", text)\n",
        "    text = re.sub(r\"\\'re\", \" are \", text)\n",
        "    text = re.sub(r\"\\'d\", \" would \", text)\n",
        "    text = re.sub(r\"\\'ll\", \" will \", text)\n",
        "    text = re.sub(r\",\", \" \", text)\n",
        "    text = re.sub(r\"\\.\", \" \", text)\n",
        "    text = re.sub(r\"!\", \" ! \", text)\n",
        "    text = re.sub(r\"\\/\", \" \", text)\n",
        "    text = re.sub(r\"\\^\", \" ^ \", text)\n",
        "    text = re.sub(r\"\\+\", \" + \", text)\n",
        "    text = re.sub(r\"\\-\", \" - \", text)\n",
        "    text = re.sub(r\"\\=\", \" = \", text)\n",
        "    \n",
        "    text = re.sub(r\"\\<\", \" \", text)\n",
        "    text = re.sub(r\"\\>\", \" \", text)\n",
        "    \n",
        "    text = re.sub(r\"'\", \" \", text)\n",
        "    text = re.sub(r\"(\\d+)(k)\", r\"\\g<1>000\", text)\n",
        "    text = re.sub(r\":\", \" : \", text)\n",
        "    text = re.sub(r\" e g \", \" eg \", text)\n",
        "    text = re.sub(r\" b g \", \" bg \", text)\n",
        "    text = re.sub(r\" u s \", \" american \", text)\n",
        "    text = re.sub(r\"\\0s\", \"0\", text)\n",
        "    text = re.sub(r\" 9 11 \", \"911\", text)\n",
        "    text = re.sub(r\"e - mail\", \"email\", text)\n",
        "    text = re.sub(r\"j k\", \"jk\", text)\n",
        "    text = re.sub(r\"\\s{2,}\", \" \", text)\n",
        "    \n",
        "    # Optionally, shorten words to their stems\n",
        "    if stem_words:\n",
        "        text = text.split()\n",
        "        stemmer = SnowballStemmer('english')\n",
        "        stemmed_words = [stemmer.stem(word) for word in text]\n",
        "        text = \" \".join(stemmed_words)\n",
        "    \n",
        "    # Return a list of words\n",
        "    return(text)"
      ],
      "execution_count": 0,
      "outputs": []
    },
    {
      "cell_type": "code",
      "metadata": {
        "id": "4Qx5TbTXAoMu",
        "colab_type": "code",
        "outputId": "1183d7e6-c6d9-4350-d25a-e276417f1d59",
        "colab": {
          "base_uri": "https://localhost:8080/",
          "height": 108
        }
      },
      "source": [
        "import nltk\n",
        "nltk.download('wordnet')\n",
        "nltk.download('stopwords')"
      ],
      "execution_count": 0,
      "outputs": [
        {
          "output_type": "stream",
          "text": [
            "[nltk_data] Downloading package wordnet to /root/nltk_data...\n",
            "[nltk_data]   Package wordnet is already up-to-date!\n",
            "[nltk_data] Downloading package stopwords to /root/nltk_data...\n",
            "[nltk_data]   Package stopwords is already up-to-date!\n"
          ],
          "name": "stdout"
        },
        {
          "output_type": "execute_result",
          "data": {
            "text/plain": [
              "True"
            ]
          },
          "metadata": {
            "tags": []
          },
          "execution_count": 13
        }
      ]
    },
    {
      "cell_type": "code",
      "metadata": {
        "id": "rss97hnJAoMy",
        "colab_type": "code",
        "outputId": "255b99d2-f6b4-4ddf-85e8-97d1a4234319",
        "colab": {
          "base_uri": "https://localhost:8080/",
          "height": 198
        }
      },
      "source": [
        "all_participants_mix = all_participants.copy()\n",
        "all_participants_mix['answer'] = all_participants_mix.apply(lambda row: text_to_wordlist(row.answer).split(), axis=1)\n",
        "all_participants_mix.head()"
      ],
      "execution_count": 0,
      "outputs": [
        {
          "output_type": "execute_result",
          "data": {
            "text/html": [
              "<div>\n",
              "<style scoped>\n",
              "    .dataframe tbody tr th:only-of-type {\n",
              "        vertical-align: middle;\n",
              "    }\n",
              "\n",
              "    .dataframe tbody tr th {\n",
              "        vertical-align: top;\n",
              "    }\n",
              "\n",
              "    .dataframe thead th {\n",
              "        text-align: right;\n",
              "    }\n",
              "</style>\n",
              "<table border=\"1\" class=\"dataframe\">\n",
              "  <thead>\n",
              "    <tr style=\"text-align: right;\">\n",
              "      <th></th>\n",
              "      <th>index</th>\n",
              "      <th>personId</th>\n",
              "      <th>question</th>\n",
              "      <th>answer</th>\n",
              "    </tr>\n",
              "  </thead>\n",
              "  <tbody>\n",
              "    <tr>\n",
              "      <th>0</th>\n",
              "      <td>0</td>\n",
              "      <td>300.0</td>\n",
              "      <td>hi i'm ellie thanks for coming in today</td>\n",
              "      <td>[]</td>\n",
              "    </tr>\n",
              "    <tr>\n",
              "      <th>1</th>\n",
              "      <td>1</td>\n",
              "      <td>300.0</td>\n",
              "      <td>i was created to talk to people in a safe and ...</td>\n",
              "      <td>[]</td>\n",
              "    </tr>\n",
              "    <tr>\n",
              "      <th>2</th>\n",
              "      <td>2</td>\n",
              "      <td>300.0</td>\n",
              "      <td>think of me as a friend i don't judge i can't ...</td>\n",
              "      <td>[]</td>\n",
              "    </tr>\n",
              "    <tr>\n",
              "      <th>3</th>\n",
              "      <td>3</td>\n",
              "      <td>300.0</td>\n",
              "      <td>i'm here to learn about people and would love ...</td>\n",
              "      <td>[]</td>\n",
              "    </tr>\n",
              "    <tr>\n",
              "      <th>4</th>\n",
              "      <td>4</td>\n",
              "      <td>300.0</td>\n",
              "      <td>i'll ask a few questions to get us started and...</td>\n",
              "      <td>[]</td>\n",
              "    </tr>\n",
              "  </tbody>\n",
              "</table>\n",
              "</div>"
            ],
            "text/plain": [
              "   index  personId                                           question answer\n",
              "0      0     300.0            hi i'm ellie thanks for coming in today     []\n",
              "1      1     300.0  i was created to talk to people in a safe and ...     []\n",
              "2      2     300.0  think of me as a friend i don't judge i can't ...     []\n",
              "3      3     300.0  i'm here to learn about people and would love ...     []\n",
              "4      4     300.0  i'll ask a few questions to get us started and...     []"
            ]
          },
          "metadata": {
            "tags": []
          },
          "execution_count": 14
        }
      ]
    },
    {
      "cell_type": "code",
      "metadata": {
        "id": "pvg2Uum_AoM2",
        "colab_type": "code",
        "outputId": "89ce256e-9936-4755-c0eb-6d529bd50e2a",
        "colab": {
          "base_uri": "https://localhost:8080/",
          "height": 235
        }
      },
      "source": [
        "print(all_participants_mix['answer'])"
      ],
      "execution_count": 0,
      "outputs": [
        {
          "output_type": "stream",
          "text": [
            "0                                 []\n",
            "1                                 []\n",
            "2                                 []\n",
            "3                                 []\n",
            "4                                 []\n",
            "                    ...             \n",
            "14968                             []\n",
            "14969    [um, proud, fact, uh, give]\n",
            "14970                             []\n",
            "14971                             []\n",
            "14972                   [bye, thank]\n",
            "Name: answer, Length: 14973, dtype: object\n"
          ],
          "name": "stdout"
        }
      ]
    },
    {
      "cell_type": "code",
      "metadata": {
        "id": "TPTs-PWnAoM5",
        "colab_type": "code",
        "colab": {}
      },
      "source": [
        "all_participants_mix_stopwords = all_participants.copy()\n",
        "all_participants_mix_stopwords['answer'] = all_participants_mix_stopwords.apply(lambda row: text_to_wordlist(row.answer, remove_stopwords=False).split(), axis=1)"
      ],
      "execution_count": 0,
      "outputs": []
    },
    {
      "cell_type": "code",
      "metadata": {
        "id": "Dduv-X0VAoM7",
        "colab_type": "code",
        "outputId": "aeec5706-eda5-4f74-d7d8-50b6a61784a2",
        "colab": {
          "base_uri": "https://localhost:8080/",
          "height": 35
        }
      },
      "source": [
        "words = [w for w in all_participants_mix['answer'].tolist()]\n",
        "words = set(itertools.chain(*words))\n",
        "vocab_size = len(words)\n",
        "print(vocab_size)"
      ],
      "execution_count": 0,
      "outputs": [
        {
          "output_type": "stream",
          "text": [
            "7373\n"
          ],
          "name": "stdout"
        }
      ]
    },
    {
      "cell_type": "code",
      "metadata": {
        "id": "9GyhIGRHAoM-",
        "colab_type": "code",
        "outputId": "ee1d4a0d-01f9-405d-cff7-f0ec256f2de2",
        "colab": {
          "base_uri": "https://localhost:8080/",
          "height": 35
        }
      },
      "source": [
        "words_stop = [w for w in all_participants_mix_stopwords['answer'].tolist()]\n",
        "words_stop = set(itertools.chain(*words_stop))\n",
        "vocab_size_stop = len(words_stop)\n",
        "print(vocab_size_stop)"
      ],
      "execution_count": 0,
      "outputs": [
        {
          "output_type": "stream",
          "text": [
            "7449\n"
          ],
          "name": "stdout"
        }
      ]
    },
    {
      "cell_type": "code",
      "metadata": {
        "id": "pnNApW1PAoNA",
        "colab_type": "code",
        "outputId": "43a82c36-f4a0-4889-f7d7-b76002d90747",
        "colab": {
          "base_uri": "https://localhost:8080/",
          "height": 126
        }
      },
      "source": [
        "windows_size = WINDOWS_SIZE\n",
        "tokenizer = Tokenizer(num_words=vocab_size)\n",
        "tokenizer.fit_on_texts(all_participants_mix['answer'])\n",
        "tokenizer.fit_on_sequences(all_participants_mix['answer'])\n",
        "\n",
        "all_participants_mix['t_answer'] = tokenizer.texts_to_sequences(all_participants_mix['answer'])\n",
        "all_participants_mix['answer'].head()"
      ],
      "execution_count": 0,
      "outputs": [
        {
          "output_type": "execute_result",
          "data": {
            "text/plain": [
              "0    []\n",
              "1    []\n",
              "2    []\n",
              "3    []\n",
              "4    []\n",
              "Name: answer, dtype: object"
            ]
          },
          "metadata": {
            "tags": []
          },
          "execution_count": 19
        }
      ]
    },
    {
      "cell_type": "code",
      "metadata": {
        "id": "cru2D4TNAoNF",
        "colab_type": "code",
        "outputId": "36aab970-88eb-4054-ffdf-c691ce2e78a8",
        "colab": {
          "base_uri": "https://localhost:8080/",
          "height": 198
        }
      },
      "source": [
        "windows_size = WINDOWS_SIZE\n",
        "tokenizer = Tokenizer(num_words=vocab_size_stop)\n",
        "tokenizer.fit_on_texts(all_participants_mix_stopwords['answer'])\n",
        "tokenizer.fit_on_sequences(all_participants_mix_stopwords['answer'])\n",
        "\n",
        "all_participants_mix_stopwords['t_answer'] = tokenizer.texts_to_sequences(all_participants_mix_stopwords['answer'])\n",
        "all_participants_mix_stopwords.head()"
      ],
      "execution_count": 0,
      "outputs": [
        {
          "output_type": "execute_result",
          "data": {
            "text/html": [
              "<div>\n",
              "<style scoped>\n",
              "    .dataframe tbody tr th:only-of-type {\n",
              "        vertical-align: middle;\n",
              "    }\n",
              "\n",
              "    .dataframe tbody tr th {\n",
              "        vertical-align: top;\n",
              "    }\n",
              "\n",
              "    .dataframe thead th {\n",
              "        text-align: right;\n",
              "    }\n",
              "</style>\n",
              "<table border=\"1\" class=\"dataframe\">\n",
              "  <thead>\n",
              "    <tr style=\"text-align: right;\">\n",
              "      <th></th>\n",
              "      <th>index</th>\n",
              "      <th>personId</th>\n",
              "      <th>question</th>\n",
              "      <th>answer</th>\n",
              "      <th>t_answer</th>\n",
              "    </tr>\n",
              "  </thead>\n",
              "  <tbody>\n",
              "    <tr>\n",
              "      <th>0</th>\n",
              "      <td>0</td>\n",
              "      <td>300.0</td>\n",
              "      <td>hi i'm ellie thanks for coming in today</td>\n",
              "      <td>[]</td>\n",
              "      <td>[]</td>\n",
              "    </tr>\n",
              "    <tr>\n",
              "      <th>1</th>\n",
              "      <td>1</td>\n",
              "      <td>300.0</td>\n",
              "      <td>i was created to talk to people in a safe and ...</td>\n",
              "      <td>[]</td>\n",
              "      <td>[]</td>\n",
              "    </tr>\n",
              "    <tr>\n",
              "      <th>2</th>\n",
              "      <td>2</td>\n",
              "      <td>300.0</td>\n",
              "      <td>think of me as a friend i don't judge i can't ...</td>\n",
              "      <td>[]</td>\n",
              "      <td>[]</td>\n",
              "    </tr>\n",
              "    <tr>\n",
              "      <th>3</th>\n",
              "      <td>3</td>\n",
              "      <td>300.0</td>\n",
              "      <td>i'm here to learn about people and would love ...</td>\n",
              "      <td>[]</td>\n",
              "      <td>[]</td>\n",
              "    </tr>\n",
              "    <tr>\n",
              "      <th>4</th>\n",
              "      <td>4</td>\n",
              "      <td>300.0</td>\n",
              "      <td>i'll ask a few questions to get us started and...</td>\n",
              "      <td>[]</td>\n",
              "      <td>[]</td>\n",
              "    </tr>\n",
              "  </tbody>\n",
              "</table>\n",
              "</div>"
            ],
            "text/plain": [
              "   index  personId  ... answer t_answer\n",
              "0      0     300.0  ...     []       []\n",
              "1      1     300.0  ...     []       []\n",
              "2      2     300.0  ...     []       []\n",
              "3      3     300.0  ...     []       []\n",
              "4      4     300.0  ...     []       []\n",
              "\n",
              "[5 rows x 5 columns]"
            ]
          },
          "metadata": {
            "tags": []
          },
          "execution_count": 20
        }
      ]
    },
    {
      "cell_type": "code",
      "metadata": {
        "id": "UsrDSTDGAoNK",
        "colab_type": "code",
        "outputId": "c0d01630-d4a3-48a5-8998-f8f217d74b36",
        "colab": {
          "base_uri": "https://localhost:8080/",
          "height": 35
        }
      },
      "source": [
        "word_index = tokenizer.word_index\n",
        "word_size = len(word_index)\n",
        "print(word_index[\"sad\"])"
      ],
      "execution_count": 0,
      "outputs": [
        {
          "output_type": "stream",
          "text": [
            "652\n"
          ],
          "name": "stdout"
        }
      ]
    },
    {
      "cell_type": "code",
      "metadata": {
        "id": "KmbegyeCAoNM",
        "colab_type": "code",
        "outputId": "f5f42c28-5c22-46d6-afa1-781a924c9968",
        "colab": {
          "base_uri": "https://localhost:8080/",
          "height": 198
        }
      },
      "source": [
        "all_participants_mix_stopwords.head()"
      ],
      "execution_count": 0,
      "outputs": [
        {
          "output_type": "execute_result",
          "data": {
            "text/html": [
              "<div>\n",
              "<style scoped>\n",
              "    .dataframe tbody tr th:only-of-type {\n",
              "        vertical-align: middle;\n",
              "    }\n",
              "\n",
              "    .dataframe tbody tr th {\n",
              "        vertical-align: top;\n",
              "    }\n",
              "\n",
              "    .dataframe thead th {\n",
              "        text-align: right;\n",
              "    }\n",
              "</style>\n",
              "<table border=\"1\" class=\"dataframe\">\n",
              "  <thead>\n",
              "    <tr style=\"text-align: right;\">\n",
              "      <th></th>\n",
              "      <th>index</th>\n",
              "      <th>personId</th>\n",
              "      <th>question</th>\n",
              "      <th>answer</th>\n",
              "      <th>t_answer</th>\n",
              "    </tr>\n",
              "  </thead>\n",
              "  <tbody>\n",
              "    <tr>\n",
              "      <th>0</th>\n",
              "      <td>0</td>\n",
              "      <td>300.0</td>\n",
              "      <td>hi i'm ellie thanks for coming in today</td>\n",
              "      <td>[]</td>\n",
              "      <td>[]</td>\n",
              "    </tr>\n",
              "    <tr>\n",
              "      <th>1</th>\n",
              "      <td>1</td>\n",
              "      <td>300.0</td>\n",
              "      <td>i was created to talk to people in a safe and ...</td>\n",
              "      <td>[]</td>\n",
              "      <td>[]</td>\n",
              "    </tr>\n",
              "    <tr>\n",
              "      <th>2</th>\n",
              "      <td>2</td>\n",
              "      <td>300.0</td>\n",
              "      <td>think of me as a friend i don't judge i can't ...</td>\n",
              "      <td>[]</td>\n",
              "      <td>[]</td>\n",
              "    </tr>\n",
              "    <tr>\n",
              "      <th>3</th>\n",
              "      <td>3</td>\n",
              "      <td>300.0</td>\n",
              "      <td>i'm here to learn about people and would love ...</td>\n",
              "      <td>[]</td>\n",
              "      <td>[]</td>\n",
              "    </tr>\n",
              "    <tr>\n",
              "      <th>4</th>\n",
              "      <td>4</td>\n",
              "      <td>300.0</td>\n",
              "      <td>i'll ask a few questions to get us started and...</td>\n",
              "      <td>[]</td>\n",
              "      <td>[]</td>\n",
              "    </tr>\n",
              "  </tbody>\n",
              "</table>\n",
              "</div>"
            ],
            "text/plain": [
              "   index  personId  ... answer t_answer\n",
              "0      0     300.0  ...     []       []\n",
              "1      1     300.0  ...     []       []\n",
              "2      2     300.0  ...     []       []\n",
              "3      3     300.0  ...     []       []\n",
              "4      4     300.0  ...     []       []\n",
              "\n",
              "[5 rows x 5 columns]"
            ]
          },
          "metadata": {
            "tags": []
          },
          "execution_count": 22
        }
      ]
    },
    {
      "cell_type": "code",
      "metadata": {
        "scrolled": true,
        "id": "yqV984sRAoNP",
        "colab_type": "code",
        "outputId": "93332a66-ca5d-475b-b787-4421adbb781d",
        "colab": {
          "base_uri": "https://localhost:8080/",
          "height": 72
        }
      },
      "source": [
        "windows_size = WINDOWS_SIZE\n",
        "cont = 0\n",
        "word_index = tokenizer\n",
        "phrases_lp_stop = pd.DataFrame(columns=['personId','answer', 't_answer'])\n",
        "answers = all_participants_mix_stopwords.groupby('personId').agg({'answer':'sum','t_answer':'sum'})\n",
        "\n",
        "#answers = all_participants_mix_stopwords.groupby('personId').agg({' ':\"sum\"},axis=\"columns\")\n",
        "\n",
        "#answers = all_participants_mix_stopwords.groupby('personId',axis=0).aggregate('sum')\n",
        "#answers1 = all_participants_mix_stopwords.groupby('personId',axis=0)\n",
        "\n",
        "#answers= answers1.DataFrame.aggregate('sum', axis=1)\n",
        "#print(answers[\"answer\"])\n",
        "print(phrases_lp_stop.head())\n",
        "#print(answers[1])\n",
        "#print(answers)\n",
        "#answers.head()\n",
        "#answers1.head()"
      ],
      "execution_count": 0,
      "outputs": [
        {
          "output_type": "stream",
          "text": [
            "Empty DataFrame\n",
            "Columns: [personId, answer, t_answer]\n",
            "Index: []\n"
          ],
          "name": "stdout"
        }
      ]
    },
    {
      "cell_type": "code",
      "metadata": {
        "id": "NL-88Lg3AoNR",
        "colab_type": "code",
        "outputId": "440fd012-da6a-4407-874b-e3bb9770c739",
        "colab": {
          "base_uri": "https://localhost:8080/",
          "height": 254
        }
      },
      "source": [
        "print(answers['answer'])"
      ],
      "execution_count": 0,
      "outputs": [
        {
          "output_type": "stream",
          "text": [
            "personId\n",
            "300.0    [good, atlanta, georgia, um, my, parent, are, ...\n",
            "301.0    [thank, you, mmm, k, i, am, doing, good, thank...\n",
            "302.0    [i, am, fine, how, about, yourself, i, am, fro...\n",
            "303.0    [okay, how, bout, yourself, here, in, californ...\n",
            "304.0    [i, am, doing, good, um, from, los, angeles, c...\n",
            "                               ...                        \n",
            "488.0    [yes, fine, oh, san, fernando, valley, uh, wel...\n",
            "489.0    [yes, i, am, doing, well, thank, you, san, lui...\n",
            "490.0    [yeah, i, am, doing, already, how, are, you, d...\n",
            "491.0    [yes, huh, overwhelmed, i, have, a, funeral, t...\n",
            "492.0    [yes, doing, pretty, good, thank, you, marylan...\n",
            "Name: answer, Length: 186, dtype: object\n"
          ],
          "name": "stdout"
        }
      ]
    },
    {
      "cell_type": "code",
      "metadata": {
        "id": "lfw7Ka9GAoNV",
        "colab_type": "code",
        "outputId": "a322384c-c382-4529-9248-f8ae2df798a1",
        "colab": {
          "base_uri": "https://localhost:8080/",
          "height": 1000
        }
      },
      "source": [
        "cont = 0\n",
        "for p in answers.iterrows():      \n",
        "    words = p[1][\"answer\"]\n",
        "    size = len(words)\n",
        "    word_tokens = p[1][\"t_answer\"]\n",
        "    print(cont)\n",
        "    for i in range(size):\n",
        "        sentence = words[i:min(i+windows_size,size)]  \n",
        "        tokens = word_tokens[i:min(i+windows_size,size)]  \n",
        "        phrases_lp_stop.loc[cont] = [p[0], sentence, tokens]\n",
        "        cont = cont + 1"
      ],
      "execution_count": 0,
      "outputs": [
        {
          "output_type": "stream",
          "text": [
            "0\n",
            "366\n",
            "1910\n",
            "2537\n",
            "4564\n",
            "5586\n",
            "9031\n",
            "10645\n",
            "13317\n",
            "14253\n",
            "14978\n",
            "16167\n",
            "16840\n",
            "18094\n",
            "18864\n",
            "22270\n",
            "23681\n",
            "24333\n",
            "25004\n",
            "25734\n",
            "26438\n",
            "27229\n",
            "28181\n",
            "29783\n",
            "31179\n",
            "32089\n",
            "33961\n",
            "34490\n",
            "35308\n",
            "37387\n",
            "38393\n",
            "38893\n",
            "40421\n",
            "41348\n",
            "42739\n",
            "44279\n",
            "45715\n",
            "46737\n",
            "51500\n",
            "52373\n",
            "53416\n",
            "54025\n",
            "55336\n",
            "56086\n",
            "58111\n",
            "59615\n",
            "61954\n",
            "62412\n",
            "63425\n",
            "64967\n",
            "66450\n",
            "67651\n",
            "69384\n",
            "70677\n",
            "71189\n",
            "72243\n",
            "73920\n",
            "74343\n",
            "75023\n",
            "77376\n",
            "78019\n",
            "79352\n",
            "80184\n",
            "82410\n",
            "86641\n",
            "89041\n",
            "91691\n",
            "94841\n",
            "98498\n",
            "100818\n",
            "104009\n",
            "104853\n",
            "107126\n",
            "110843\n",
            "113307\n",
            "113865\n",
            "115659\n",
            "118143\n",
            "119495\n",
            "122094\n",
            "126155\n",
            "127879\n",
            "129032\n",
            "131212\n",
            "132345\n",
            "132527\n",
            "134731\n",
            "135297\n",
            "135775\n",
            "136363\n",
            "137814\n",
            "138437\n",
            "139156\n",
            "139911\n",
            "141173\n",
            "142312\n",
            "144098\n",
            "145299\n",
            "146517\n",
            "147752\n",
            "148927\n",
            "150409\n",
            "151498\n",
            "154051\n",
            "155105\n",
            "158365\n",
            "159245\n",
            "161725\n",
            "163222\n",
            "166294\n",
            "167179\n",
            "168929\n",
            "170431\n",
            "171685\n",
            "173201\n",
            "174465\n",
            "176141\n",
            "177836\n",
            "178954\n",
            "180049\n",
            "182566\n",
            "183609\n",
            "186170\n",
            "187978\n",
            "189206\n",
            "190309\n",
            "191330\n",
            "192564\n",
            "194061\n",
            "194949\n",
            "196252\n",
            "197200\n",
            "199869\n",
            "200911\n",
            "202344\n",
            "203590\n",
            "206969\n",
            "210093\n",
            "211990\n",
            "212964\n",
            "214603\n",
            "215140\n",
            "218037\n",
            "219080\n",
            "220873\n",
            "222305\n",
            "224942\n",
            "228109\n",
            "230186\n",
            "230789\n",
            "232313\n",
            "233009\n",
            "234107\n",
            "235798\n",
            "237199\n",
            "238468\n",
            "239491\n",
            "241575\n",
            "242517\n",
            "244582\n",
            "247365\n",
            "249856\n",
            "251134\n",
            "253077\n",
            "254804\n",
            "256281\n",
            "257797\n",
            "258720\n",
            "259065\n",
            "260863\n",
            "261605\n",
            "262265\n",
            "265148\n",
            "266503\n",
            "267189\n",
            "269271\n",
            "271219\n",
            "273588\n",
            "275009\n",
            "275735\n",
            "276521\n",
            "278376\n",
            "279838\n",
            "280361\n",
            "280972\n",
            "282241\n"
          ],
          "name": "stdout"
        }
      ]
    },
    {
      "cell_type": "code",
      "metadata": {
        "id": "fieHRqXOwsQj",
        "colab_type": "code",
        "outputId": "b234f000-33e2-4e16-b45b-2a0d797acd03",
        "colab": {
          "base_uri": "https://localhost:8080/",
          "height": 35
        }
      },
      "source": [
        "import tensorflow\n",
        "print(tensorflow.__version__)"
      ],
      "execution_count": 0,
      "outputs": [
        {
          "output_type": "stream",
          "text": [
            "1.14.0\n"
          ],
          "name": "stdout"
        }
      ]
    },
    {
      "cell_type": "code",
      "metadata": {
        "id": "FLvReiO6AoNY",
        "colab_type": "code",
        "outputId": "d6f01f2d-3cb5-4884-b2db-3ec54a89eded",
        "colab": {
          "base_uri": "https://localhost:8080/",
          "height": 198
        }
      },
      "source": [
        "phrases_lp_stop.head()"
      ],
      "execution_count": 0,
      "outputs": [
        {
          "output_type": "execute_result",
          "data": {
            "text/html": [
              "<div>\n",
              "<style scoped>\n",
              "    .dataframe tbody tr th:only-of-type {\n",
              "        vertical-align: middle;\n",
              "    }\n",
              "\n",
              "    .dataframe tbody tr th {\n",
              "        vertical-align: top;\n",
              "    }\n",
              "\n",
              "    .dataframe thead th {\n",
              "        text-align: right;\n",
              "    }\n",
              "</style>\n",
              "<table border=\"1\" class=\"dataframe\">\n",
              "  <thead>\n",
              "    <tr style=\"text-align: right;\">\n",
              "      <th></th>\n",
              "      <th>personId</th>\n",
              "      <th>answer</th>\n",
              "      <th>t_answer</th>\n",
              "    </tr>\n",
              "  </thead>\n",
              "  <tbody>\n",
              "    <tr>\n",
              "      <th>0</th>\n",
              "      <td>300.0</td>\n",
              "      <td>[good, atlanta, georgia, um, my, parent, are, ...</td>\n",
              "      <td>[42, 1727, 2089, 5, 12, 205, 37, 69, 113, 5]</td>\n",
              "    </tr>\n",
              "    <tr>\n",
              "      <th>1</th>\n",
              "      <td>300.0</td>\n",
              "      <td>[atlanta, georgia, um, my, parent, are, from, ...</td>\n",
              "      <td>[1727, 2089, 5, 12, 205, 37, 69, 113, 5, 1]</td>\n",
              "    </tr>\n",
              "    <tr>\n",
              "      <th>2</th>\n",
              "      <td>300.0</td>\n",
              "      <td>[georgia, um, my, parent, are, from, here, um,...</td>\n",
              "      <td>[2089, 5, 12, 205, 37, 69, 113, 5, 1, 119]</td>\n",
              "    </tr>\n",
              "    <tr>\n",
              "      <th>3</th>\n",
              "      <td>300.0</td>\n",
              "      <td>[um, my, parent, are, from, here, um, i, love,...</td>\n",
              "      <td>[5, 12, 205, 37, 69, 113, 5, 1, 119, 6]</td>\n",
              "    </tr>\n",
              "    <tr>\n",
              "      <th>4</th>\n",
              "      <td>300.0</td>\n",
              "      <td>[my, parent, are, from, here, um, i, love, it, i]</td>\n",
              "      <td>[12, 205, 37, 69, 113, 5, 1, 119, 6, 1]</td>\n",
              "    </tr>\n",
              "  </tbody>\n",
              "</table>\n",
              "</div>"
            ],
            "text/plain": [
              "   personId  ...                                      t_answer\n",
              "0     300.0  ...  [42, 1727, 2089, 5, 12, 205, 37, 69, 113, 5]\n",
              "1     300.0  ...   [1727, 2089, 5, 12, 205, 37, 69, 113, 5, 1]\n",
              "2     300.0  ...    [2089, 5, 12, 205, 37, 69, 113, 5, 1, 119]\n",
              "3     300.0  ...       [5, 12, 205, 37, 69, 113, 5, 1, 119, 6]\n",
              "4     300.0  ...       [12, 205, 37, 69, 113, 5, 1, 119, 6, 1]\n",
              "\n",
              "[5 rows x 3 columns]"
            ]
          },
          "metadata": {
            "tags": []
          },
          "execution_count": 35
        }
      ]
    },
    {
      "cell_type": "code",
      "metadata": {
        "id": "hU349V48AoNa",
        "colab_type": "code",
        "outputId": "e469cd22-50df-4a82-fd13-66a755028468",
        "colab": {
          "base_uri": "https://localhost:8080/",
          "height": 1000
        }
      },
      "source": [
        "windows_size = WINDOWS_SIZE\n",
        "cont = 0\n",
        "word_index = tokenizer\n",
        "phrases_lp = pd.DataFrame(columns=['personId','answer', 't_answer'])\n",
        "answers = all_participants_mix.groupby('personId').agg({'answer':'sum','t_answer':'sum'})\n",
        "\n",
        "for p in answers.iterrows():      \n",
        "    \n",
        "    words = p[1][\"answer\"]\n",
        "    size = len(words)\n",
        "    word_tokens = p[1][\"t_answer\"]\n",
        "    print(cont)\n",
        "    for i in range(size):\n",
        "        sentence = words[i:min(i+windows_size,size)]  \n",
        "        tokens = word_tokens[i:min(i+windows_size,size)]  \n",
        "        phrases_lp.loc[cont] = [p[0], sentence, tokens]\n",
        "        cont = cont + 1"
      ],
      "execution_count": 0,
      "outputs": [
        {
          "output_type": "stream",
          "text": [
            "0\n",
            "216\n",
            "948\n",
            "1289\n",
            "2306\n",
            "2820\n",
            "4467\n",
            "5272\n",
            "6634\n",
            "7128\n",
            "7522\n",
            "8134\n",
            "8492\n",
            "9114\n",
            "9541\n",
            "11143\n",
            "11859\n",
            "12199\n",
            "12612\n",
            "12990\n",
            "13364\n",
            "13740\n",
            "14193\n",
            "15043\n",
            "15774\n",
            "16260\n",
            "17226\n",
            "17541\n",
            "17988\n",
            "18998\n",
            "19510\n",
            "19807\n",
            "20537\n",
            "21021\n",
            "21756\n",
            "22506\n",
            "23241\n",
            "23777\n",
            "25875\n",
            "26337\n",
            "26890\n",
            "27214\n",
            "27861\n",
            "28208\n",
            "29187\n",
            "30033\n",
            "31162\n",
            "31393\n",
            "31906\n",
            "32726\n",
            "33442\n",
            "34097\n",
            "34961\n",
            "35630\n",
            "35916\n",
            "36462\n",
            "37272\n",
            "37520\n",
            "37921\n",
            "39117\n",
            "39453\n",
            "40176\n",
            "40612\n",
            "41633\n",
            "43633\n",
            "44724\n",
            "46096\n",
            "47446\n",
            "49283\n",
            "50470\n",
            "52061\n",
            "52512\n",
            "53621\n",
            "55410\n",
            "56647\n",
            "56942\n",
            "57855\n",
            "59048\n",
            "59743\n",
            "61122\n",
            "63171\n",
            "63974\n",
            "64588\n",
            "65735\n",
            "66337\n",
            "66430\n",
            "67611\n",
            "67925\n",
            "68167\n",
            "68473\n",
            "69276\n",
            "69612\n",
            "69995\n",
            "70382\n",
            "71056\n",
            "71623\n",
            "72482\n",
            "73094\n",
            "73766\n",
            "74375\n",
            "74966\n",
            "75725\n",
            "76316\n",
            "77554\n",
            "78141\n",
            "79799\n",
            "80270\n",
            "81574\n",
            "82292\n",
            "83751\n",
            "84254\n",
            "85067\n",
            "85771\n",
            "86414\n",
            "87162\n",
            "87834\n",
            "88666\n",
            "89515\n",
            "90086\n",
            "90618\n",
            "91842\n",
            "92382\n",
            "93546\n",
            "94464\n",
            "95095\n",
            "95675\n",
            "96222\n",
            "96897\n",
            "97670\n",
            "98152\n",
            "98855\n",
            "99358\n",
            "100583\n",
            "101171\n",
            "101863\n",
            "102549\n",
            "104204\n",
            "105711\n",
            "106599\n",
            "107096\n",
            "107951\n",
            "108286\n",
            "109691\n",
            "110175\n",
            "111096\n",
            "111794\n",
            "113099\n",
            "114452\n",
            "115480\n",
            "115793\n",
            "116535\n",
            "116938\n",
            "117489\n",
            "118336\n",
            "119083\n",
            "119717\n",
            "120237\n",
            "121265\n",
            "121723\n",
            "122828\n",
            "124247\n",
            "125620\n",
            "126288\n",
            "127310\n",
            "128287\n",
            "128992\n",
            "129770\n",
            "130250\n",
            "130436\n",
            "131292\n",
            "131710\n",
            "132086\n",
            "133450\n",
            "134128\n",
            "134516\n",
            "135551\n",
            "136473\n",
            "137754\n",
            "138472\n",
            "138900\n",
            "139305\n",
            "140215\n",
            "140930\n",
            "141222\n",
            "141533\n",
            "142171\n"
          ],
          "name": "stdout"
        }
      ]
    },
    {
      "cell_type": "code",
      "metadata": {
        "id": "s48JCoZ6AoNe",
        "colab_type": "code",
        "outputId": "eb37f645-1b48-425e-a877-53876248a8e6",
        "colab": {
          "base_uri": "https://localhost:8080/",
          "height": 35
        }
      },
      "source": [
        "phrases_lp.to_csv( 'phrases_lp.csv', sep='\\t')\n",
        "print(\"File was created\")"
      ],
      "execution_count": 0,
      "outputs": [
        {
          "output_type": "stream",
          "text": [
            "File was created\n"
          ],
          "name": "stdout"
        }
      ]
    },
    {
      "cell_type": "code",
      "metadata": {
        "id": "RZaPAS2yAoNg",
        "colab_type": "code",
        "outputId": "1059fe74-7529-4768-edf2-003f23a4aab5",
        "colab": {
          "base_uri": "https://localhost:8080/",
          "height": 198
        }
      },
      "source": [
        "phrases_lp.head()"
      ],
      "execution_count": 0,
      "outputs": [
        {
          "output_type": "execute_result",
          "data": {
            "text/html": [
              "<div>\n",
              "<style scoped>\n",
              "    .dataframe tbody tr th:only-of-type {\n",
              "        vertical-align: middle;\n",
              "    }\n",
              "\n",
              "    .dataframe tbody tr th {\n",
              "        vertical-align: top;\n",
              "    }\n",
              "\n",
              "    .dataframe thead th {\n",
              "        text-align: right;\n",
              "    }\n",
              "</style>\n",
              "<table border=\"1\" class=\"dataframe\">\n",
              "  <thead>\n",
              "    <tr style=\"text-align: right;\">\n",
              "      <th></th>\n",
              "      <th>personId</th>\n",
              "      <th>answer</th>\n",
              "      <th>t_answer</th>\n",
              "    </tr>\n",
              "  </thead>\n",
              "  <tbody>\n",
              "    <tr>\n",
              "      <th>0</th>\n",
              "      <td>300.0</td>\n",
              "      <td>[good, atlanta, georgia, um, parent, um, love,...</td>\n",
              "      <td>[16, 1634, 1997, 1, 131, 1, 63, 5, 142, 5]</td>\n",
              "    </tr>\n",
              "    <tr>\n",
              "      <th>1</th>\n",
              "      <td>300.0</td>\n",
              "      <td>[atlanta, georgia, um, parent, um, love, like,...</td>\n",
              "      <td>[1634, 1997, 1, 131, 1, 63, 5, 142, 5, 334]</td>\n",
              "    </tr>\n",
              "    <tr>\n",
              "      <th>2</th>\n",
              "      <td>300.0</td>\n",
              "      <td>[georgia, um, parent, um, love, like, weather,...</td>\n",
              "      <td>[1997, 1, 131, 1, 63, 5, 142, 5, 334, 1]</td>\n",
              "    </tr>\n",
              "    <tr>\n",
              "      <th>3</th>\n",
              "      <td>300.0</td>\n",
              "      <td>[um, parent, um, love, like, weather, like, op...</td>\n",
              "      <td>[1, 131, 1, 63, 5, 142, 5, 334, 1, 39]</td>\n",
              "    </tr>\n",
              "    <tr>\n",
              "      <th>4</th>\n",
              "      <td>300.0</td>\n",
              "      <td>[parent, um, love, like, weather, like, opport...</td>\n",
              "      <td>[131, 1, 63, 5, 142, 5, 334, 1, 39, 1]</td>\n",
              "    </tr>\n",
              "  </tbody>\n",
              "</table>\n",
              "</div>"
            ],
            "text/plain": [
              "   personId  ...                                     t_answer\n",
              "0     300.0  ...   [16, 1634, 1997, 1, 131, 1, 63, 5, 142, 5]\n",
              "1     300.0  ...  [1634, 1997, 1, 131, 1, 63, 5, 142, 5, 334]\n",
              "2     300.0  ...     [1997, 1, 131, 1, 63, 5, 142, 5, 334, 1]\n",
              "3     300.0  ...       [1, 131, 1, 63, 5, 142, 5, 334, 1, 39]\n",
              "4     300.0  ...       [131, 1, 63, 5, 142, 5, 334, 1, 39, 1]\n",
              "\n",
              "[5 rows x 3 columns]"
            ]
          },
          "metadata": {
            "tags": []
          },
          "execution_count": 38
        }
      ]
    },
    {
      "cell_type": "code",
      "metadata": {
        "id": "UGHxhqqxAoNl",
        "colab_type": "code",
        "outputId": "3ca32981-34cb-4674-aecd-f59c59824927",
        "colab": {
          "base_uri": "https://localhost:8080/",
          "height": 198
        }
      },
      "source": [
        "phrases_lp[\"t_answer\"] = pad_sequences(phrases_lp[\"t_answer\"], value=0, padding=\"post\", maxlen=windows_size).tolist()\n",
        "phrases_lp.head()"
      ],
      "execution_count": 0,
      "outputs": [
        {
          "output_type": "execute_result",
          "data": {
            "text/html": [
              "<div>\n",
              "<style scoped>\n",
              "    .dataframe tbody tr th:only-of-type {\n",
              "        vertical-align: middle;\n",
              "    }\n",
              "\n",
              "    .dataframe tbody tr th {\n",
              "        vertical-align: top;\n",
              "    }\n",
              "\n",
              "    .dataframe thead th {\n",
              "        text-align: right;\n",
              "    }\n",
              "</style>\n",
              "<table border=\"1\" class=\"dataframe\">\n",
              "  <thead>\n",
              "    <tr style=\"text-align: right;\">\n",
              "      <th></th>\n",
              "      <th>personId</th>\n",
              "      <th>answer</th>\n",
              "      <th>t_answer</th>\n",
              "    </tr>\n",
              "  </thead>\n",
              "  <tbody>\n",
              "    <tr>\n",
              "      <th>0</th>\n",
              "      <td>300.0</td>\n",
              "      <td>[good, atlanta, georgia, um, parent, um, love,...</td>\n",
              "      <td>[16, 1634, 1997, 1, 131, 1, 63, 5, 142, 5]</td>\n",
              "    </tr>\n",
              "    <tr>\n",
              "      <th>1</th>\n",
              "      <td>300.0</td>\n",
              "      <td>[atlanta, georgia, um, parent, um, love, like,...</td>\n",
              "      <td>[1634, 1997, 1, 131, 1, 63, 5, 142, 5, 334]</td>\n",
              "    </tr>\n",
              "    <tr>\n",
              "      <th>2</th>\n",
              "      <td>300.0</td>\n",
              "      <td>[georgia, um, parent, um, love, like, weather,...</td>\n",
              "      <td>[1997, 1, 131, 1, 63, 5, 142, 5, 334, 1]</td>\n",
              "    </tr>\n",
              "    <tr>\n",
              "      <th>3</th>\n",
              "      <td>300.0</td>\n",
              "      <td>[um, parent, um, love, like, weather, like, op...</td>\n",
              "      <td>[1, 131, 1, 63, 5, 142, 5, 334, 1, 39]</td>\n",
              "    </tr>\n",
              "    <tr>\n",
              "      <th>4</th>\n",
              "      <td>300.0</td>\n",
              "      <td>[parent, um, love, like, weather, like, opport...</td>\n",
              "      <td>[131, 1, 63, 5, 142, 5, 334, 1, 39, 1]</td>\n",
              "    </tr>\n",
              "  </tbody>\n",
              "</table>\n",
              "</div>"
            ],
            "text/plain": [
              "   personId  ...                                     t_answer\n",
              "0     300.0  ...   [16, 1634, 1997, 1, 131, 1, 63, 5, 142, 5]\n",
              "1     300.0  ...  [1634, 1997, 1, 131, 1, 63, 5, 142, 5, 334]\n",
              "2     300.0  ...     [1997, 1, 131, 1, 63, 5, 142, 5, 334, 1]\n",
              "3     300.0  ...       [1, 131, 1, 63, 5, 142, 5, 334, 1, 39]\n",
              "4     300.0  ...       [131, 1, 63, 5, 142, 5, 334, 1, 39, 1]\n",
              "\n",
              "[5 rows x 3 columns]"
            ]
          },
          "metadata": {
            "tags": []
          },
          "execution_count": 39
        }
      ]
    },
    {
      "cell_type": "code",
      "metadata": {
        "id": "LInqZHsqAoNo",
        "colab_type": "code",
        "outputId": "9dabb768-15dc-41b0-cd4b-e6c031d7bff3",
        "colab": {
          "base_uri": "https://localhost:8080/",
          "height": 35
        }
      },
      "source": [
        "phrases_lp_stop.to_csv( 'phrases_lp_stop.csv', sep='\\t')\n",
        "print(\"File was created\")"
      ],
      "execution_count": 0,
      "outputs": [
        {
          "output_type": "stream",
          "text": [
            "File was created\n"
          ],
          "name": "stdout"
        }
      ]
    },
    {
      "cell_type": "code",
      "metadata": {
        "id": "DUOTQvtYAoNr",
        "colab_type": "code",
        "outputId": "cfd72076-7c38-4798-851a-d653bac20f00",
        "colab": {
          "base_uri": "https://localhost:8080/",
          "height": 198
        }
      },
      "source": [
        "phrases_lp = pd.read_csv( 'phrases_lp.csv', sep='\\t', converters={\"t_answer\": literal_eval}) \n",
        "phrases_lp.head()"
      ],
      "execution_count": 0,
      "outputs": [
        {
          "output_type": "execute_result",
          "data": {
            "text/html": [
              "<div>\n",
              "<style scoped>\n",
              "    .dataframe tbody tr th:only-of-type {\n",
              "        vertical-align: middle;\n",
              "    }\n",
              "\n",
              "    .dataframe tbody tr th {\n",
              "        vertical-align: top;\n",
              "    }\n",
              "\n",
              "    .dataframe thead th {\n",
              "        text-align: right;\n",
              "    }\n",
              "</style>\n",
              "<table border=\"1\" class=\"dataframe\">\n",
              "  <thead>\n",
              "    <tr style=\"text-align: right;\">\n",
              "      <th></th>\n",
              "      <th>Unnamed: 0</th>\n",
              "      <th>personId</th>\n",
              "      <th>answer</th>\n",
              "      <th>t_answer</th>\n",
              "    </tr>\n",
              "  </thead>\n",
              "  <tbody>\n",
              "    <tr>\n",
              "      <th>0</th>\n",
              "      <td>0</td>\n",
              "      <td>300.0</td>\n",
              "      <td>['good', 'atlanta', 'georgia', 'um', 'parent',...</td>\n",
              "      <td>[16, 1634, 1997, 1, 131, 1, 63, 5, 142, 5]</td>\n",
              "    </tr>\n",
              "    <tr>\n",
              "      <th>1</th>\n",
              "      <td>1</td>\n",
              "      <td>300.0</td>\n",
              "      <td>['atlanta', 'georgia', 'um', 'parent', 'um', '...</td>\n",
              "      <td>[1634, 1997, 1, 131, 1, 63, 5, 142, 5, 334]</td>\n",
              "    </tr>\n",
              "    <tr>\n",
              "      <th>2</th>\n",
              "      <td>2</td>\n",
              "      <td>300.0</td>\n",
              "      <td>['georgia', 'um', 'parent', 'um', 'love', 'lik...</td>\n",
              "      <td>[1997, 1, 131, 1, 63, 5, 142, 5, 334, 1]</td>\n",
              "    </tr>\n",
              "    <tr>\n",
              "      <th>3</th>\n",
              "      <td>3</td>\n",
              "      <td>300.0</td>\n",
              "      <td>['um', 'parent', 'um', 'love', 'like', 'weathe...</td>\n",
              "      <td>[1, 131, 1, 63, 5, 142, 5, 334, 1, 39]</td>\n",
              "    </tr>\n",
              "    <tr>\n",
              "      <th>4</th>\n",
              "      <td>4</td>\n",
              "      <td>300.0</td>\n",
              "      <td>['parent', 'um', 'love', 'like', 'weather', 'l...</td>\n",
              "      <td>[131, 1, 63, 5, 142, 5, 334, 1, 39, 1]</td>\n",
              "    </tr>\n",
              "  </tbody>\n",
              "</table>\n",
              "</div>"
            ],
            "text/plain": [
              "   Unnamed: 0  ...                                     t_answer\n",
              "0           0  ...   [16, 1634, 1997, 1, 131, 1, 63, 5, 142, 5]\n",
              "1           1  ...  [1634, 1997, 1, 131, 1, 63, 5, 142, 5, 334]\n",
              "2           2  ...     [1997, 1, 131, 1, 63, 5, 142, 5, 334, 1]\n",
              "3           3  ...       [1, 131, 1, 63, 5, 142, 5, 334, 1, 39]\n",
              "4           4  ...       [131, 1, 63, 5, 142, 5, 334, 1, 39, 1]\n",
              "\n",
              "[5 rows x 4 columns]"
            ]
          },
          "metadata": {
            "tags": []
          },
          "execution_count": 41
        }
      ]
    },
    {
      "cell_type": "code",
      "metadata": {
        "id": "sIPIGwe2YIy-",
        "colab_type": "code",
        "outputId": "27adf286-f94f-4174-94f5-7f9675a82c55",
        "colab": {
          "resources": {
            "http://localhost:8080/nbextensions/google.colab/files.js": {
              "data": "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",
              "ok": true,
              "headers": [
                [
                  "content-type",
                  "application/javascript"
                ]
              ],
              "status": 200,
              "status_text": ""
            }
          },
          "base_uri": "https://localhost:8080/",
          "height": 381
        }
      },
      "source": [
        "from google.colab import files\n",
        "\n",
        "uploaded = files.upload()"
      ],
      "execution_count": 0,
      "outputs": [
        {
          "output_type": "display_data",
          "data": {
            "text/html": [
              "\n",
              "     <input type=\"file\" id=\"files-d8c8be0c-95cb-4d1f-8ab1-ceea93cde4ee\" name=\"files[]\" multiple disabled />\n",
              "     <output id=\"result-d8c8be0c-95cb-4d1f-8ab1-ceea93cde4ee\">\n",
              "      Upload widget is only available when the cell has been executed in the\n",
              "      current browser session. Please rerun this cell to enable.\n",
              "      </output>\n",
              "      <script src=\"/nbextensions/google.colab/files.js\"></script> "
            ],
            "text/plain": [
              "<IPython.core.display.HTML object>"
            ]
          },
          "metadata": {
            "tags": []
          }
        },
        {
          "output_type": "error",
          "ename": "KeyboardInterrupt",
          "evalue": "ignored",
          "traceback": [
            "\u001b[0;31m---------------------------------------------------------------------------\u001b[0m",
            "\u001b[0;31mKeyboardInterrupt\u001b[0m                         Traceback (most recent call last)",
            "\u001b[0;32m<ipython-input-42-72edf3658aa1>\u001b[0m in \u001b[0;36m<module>\u001b[0;34m()\u001b[0m\n\u001b[1;32m      1\u001b[0m \u001b[0;32mfrom\u001b[0m \u001b[0mgoogle\u001b[0m\u001b[0;34m.\u001b[0m\u001b[0mcolab\u001b[0m \u001b[0;32mimport\u001b[0m \u001b[0mfiles\u001b[0m\u001b[0;34m\u001b[0m\u001b[0;34m\u001b[0m\u001b[0m\n\u001b[1;32m      2\u001b[0m \u001b[0;34m\u001b[0m\u001b[0m\n\u001b[0;32m----> 3\u001b[0;31m \u001b[0muploaded\u001b[0m \u001b[0;34m=\u001b[0m \u001b[0mfiles\u001b[0m\u001b[0;34m.\u001b[0m\u001b[0mupload\u001b[0m\u001b[0;34m(\u001b[0m\u001b[0;34m)\u001b[0m\u001b[0;34m\u001b[0m\u001b[0;34m\u001b[0m\u001b[0m\n\u001b[0m",
            "\u001b[0;32m/usr/local/lib/python3.6/dist-packages/google/colab/files.py\u001b[0m in \u001b[0;36mupload\u001b[0;34m()\u001b[0m\n\u001b[1;32m     62\u001b[0m   result = _output.eval_js(\n\u001b[1;32m     63\u001b[0m       'google.colab._files._uploadFiles(\"{input_id}\", \"{output_id}\")'.format(\n\u001b[0;32m---> 64\u001b[0;31m           input_id=input_id, output_id=output_id))\n\u001b[0m\u001b[1;32m     65\u001b[0m   \u001b[0mfiles\u001b[0m \u001b[0;34m=\u001b[0m \u001b[0m_collections\u001b[0m\u001b[0;34m.\u001b[0m\u001b[0mdefaultdict\u001b[0m\u001b[0;34m(\u001b[0m\u001b[0m_six\u001b[0m\u001b[0;34m.\u001b[0m\u001b[0mbinary_type\u001b[0m\u001b[0;34m)\u001b[0m\u001b[0;34m\u001b[0m\u001b[0;34m\u001b[0m\u001b[0m\n\u001b[1;32m     66\u001b[0m   \u001b[0;31m# Mapping from original filename to filename as saved locally.\u001b[0m\u001b[0;34m\u001b[0m\u001b[0;34m\u001b[0m\u001b[0;34m\u001b[0m\u001b[0m\n",
            "\u001b[0;32m/usr/local/lib/python3.6/dist-packages/google/colab/output/_js.py\u001b[0m in \u001b[0;36meval_js\u001b[0;34m(script, ignore_result)\u001b[0m\n\u001b[1;32m     37\u001b[0m   \u001b[0;32mif\u001b[0m \u001b[0mignore_result\u001b[0m\u001b[0;34m:\u001b[0m\u001b[0;34m\u001b[0m\u001b[0;34m\u001b[0m\u001b[0m\n\u001b[1;32m     38\u001b[0m     \u001b[0;32mreturn\u001b[0m\u001b[0;34m\u001b[0m\u001b[0;34m\u001b[0m\u001b[0m\n\u001b[0;32m---> 39\u001b[0;31m   \u001b[0;32mreturn\u001b[0m \u001b[0m_message\u001b[0m\u001b[0;34m.\u001b[0m\u001b[0mread_reply_from_input\u001b[0m\u001b[0;34m(\u001b[0m\u001b[0mrequest_id\u001b[0m\u001b[0;34m)\u001b[0m\u001b[0;34m\u001b[0m\u001b[0;34m\u001b[0m\u001b[0m\n\u001b[0m\u001b[1;32m     40\u001b[0m \u001b[0;34m\u001b[0m\u001b[0m\n\u001b[1;32m     41\u001b[0m \u001b[0;34m\u001b[0m\u001b[0m\n",
            "\u001b[0;32m/usr/local/lib/python3.6/dist-packages/google/colab/_message.py\u001b[0m in \u001b[0;36mread_reply_from_input\u001b[0;34m(message_id, timeout_sec)\u001b[0m\n\u001b[1;32m     99\u001b[0m     \u001b[0mreply\u001b[0m \u001b[0;34m=\u001b[0m \u001b[0m_read_next_input_message\u001b[0m\u001b[0;34m(\u001b[0m\u001b[0;34m)\u001b[0m\u001b[0;34m\u001b[0m\u001b[0;34m\u001b[0m\u001b[0m\n\u001b[1;32m    100\u001b[0m     \u001b[0;32mif\u001b[0m \u001b[0mreply\u001b[0m \u001b[0;34m==\u001b[0m \u001b[0m_NOT_READY\u001b[0m \u001b[0;32mor\u001b[0m \u001b[0;32mnot\u001b[0m \u001b[0misinstance\u001b[0m\u001b[0;34m(\u001b[0m\u001b[0mreply\u001b[0m\u001b[0;34m,\u001b[0m \u001b[0mdict\u001b[0m\u001b[0;34m)\u001b[0m\u001b[0;34m:\u001b[0m\u001b[0;34m\u001b[0m\u001b[0;34m\u001b[0m\u001b[0m\n\u001b[0;32m--> 101\u001b[0;31m       \u001b[0mtime\u001b[0m\u001b[0;34m.\u001b[0m\u001b[0msleep\u001b[0m\u001b[0;34m(\u001b[0m\u001b[0;36m0.025\u001b[0m\u001b[0;34m)\u001b[0m\u001b[0;34m\u001b[0m\u001b[0;34m\u001b[0m\u001b[0m\n\u001b[0m\u001b[1;32m    102\u001b[0m       \u001b[0;32mcontinue\u001b[0m\u001b[0;34m\u001b[0m\u001b[0;34m\u001b[0m\u001b[0m\n\u001b[1;32m    103\u001b[0m     if (reply.get('type') == 'colab_reply' and\n",
            "\u001b[0;31mKeyboardInterrupt\u001b[0m: "
          ]
        }
      ]
    },
    {
      "cell_type": "code",
      "metadata": {
        "id": "SSa527eSYKdo",
        "colab_type": "code",
        "colab": {}
      },
      "source": [
        "\n",
        "\n",
        "for fn in uploaded.keys():\n",
        "  print('User uploaded file \"{name}\" with length {length} bytes'.format(\n",
        "      name=fn, length=len(uploaded[fn])))"
      ],
      "execution_count": 0,
      "outputs": []
    },
    {
      "cell_type": "code",
      "metadata": {
        "id": "aFGdWSFLAoNu",
        "colab_type": "code",
        "colab": {}
      },
      "source": [
        "def load_avec_dataset_file(path, score_column):\n",
        "    ds = pd.read_csv(path, sep=',')\n",
        "    ds['level'] = pd.cut(ds[score_column], bins=[-1,0,5,10,15,25], labels=[0,1,2,3,4])\n",
        "    ds['PHQ8_Score'] = ds[score_column]\n",
        "    ds['cat_level'] = keras.utils.to_categorical(ds['level'], num_classes).tolist()\n",
        "    ds = ds[['Participant_ID', 'level', 'cat_level', 'PHQ8_Score']]\n",
        "    ds = ds.astype({\"Participant_ID\": float, \"level\": int, 'PHQ8_Score': int})\n",
        "    return ds"
      ],
      "execution_count": 0,
      "outputs": []
    },
    {
      "cell_type": "code",
      "metadata": {
        "id": "bUMOajPMAoNw",
        "colab_type": "code",
        "outputId": "42838d85-623b-4bc2-ab8c-a02e5ec944d9",
        "colab": {
          "base_uri": "https://localhost:8080/",
          "height": 216
        }
      },
      "source": [
        "train = load_avec_dataset_file('train_split_Depression_AVEC2017.csv', 'PHQ8_Score')\n",
        "dev = load_avec_dataset_file('dev_split_Depression_AVEC2017.csv', 'PHQ8_Score')\n",
        "test = load_avec_dataset_file('full_test_split.csv', 'PHQ_Score')\n",
        "print(\"Size: train= {}, dev= {}, test= {}\".format(len(train), len(dev), len(test)))\n",
        "train.head()"
      ],
      "execution_count": 0,
      "outputs": [
        {
          "output_type": "stream",
          "text": [
            "Size: train= 107, dev= 35, test= 47\n"
          ],
          "name": "stdout"
        },
        {
          "output_type": "execute_result",
          "data": {
            "text/html": [
              "<div>\n",
              "<style scoped>\n",
              "    .dataframe tbody tr th:only-of-type {\n",
              "        vertical-align: middle;\n",
              "    }\n",
              "\n",
              "    .dataframe tbody tr th {\n",
              "        vertical-align: top;\n",
              "    }\n",
              "\n",
              "    .dataframe thead th {\n",
              "        text-align: right;\n",
              "    }\n",
              "</style>\n",
              "<table border=\"1\" class=\"dataframe\">\n",
              "  <thead>\n",
              "    <tr style=\"text-align: right;\">\n",
              "      <th></th>\n",
              "      <th>Participant_ID</th>\n",
              "      <th>level</th>\n",
              "      <th>cat_level</th>\n",
              "      <th>PHQ8_Score</th>\n",
              "    </tr>\n",
              "  </thead>\n",
              "  <tbody>\n",
              "    <tr>\n",
              "      <th>0</th>\n",
              "      <td>303.0</td>\n",
              "      <td>0</td>\n",
              "      <td>[1.0, 0.0, 0.0, 0.0, 0.0]</td>\n",
              "      <td>0</td>\n",
              "    </tr>\n",
              "    <tr>\n",
              "      <th>1</th>\n",
              "      <td>304.0</td>\n",
              "      <td>2</td>\n",
              "      <td>[0.0, 0.0, 1.0, 0.0, 0.0]</td>\n",
              "      <td>6</td>\n",
              "    </tr>\n",
              "    <tr>\n",
              "      <th>2</th>\n",
              "      <td>305.0</td>\n",
              "      <td>2</td>\n",
              "      <td>[0.0, 0.0, 1.0, 0.0, 0.0]</td>\n",
              "      <td>7</td>\n",
              "    </tr>\n",
              "    <tr>\n",
              "      <th>3</th>\n",
              "      <td>310.0</td>\n",
              "      <td>1</td>\n",
              "      <td>[0.0, 1.0, 0.0, 0.0, 0.0]</td>\n",
              "      <td>4</td>\n",
              "    </tr>\n",
              "    <tr>\n",
              "      <th>4</th>\n",
              "      <td>312.0</td>\n",
              "      <td>1</td>\n",
              "      <td>[0.0, 1.0, 0.0, 0.0, 0.0]</td>\n",
              "      <td>2</td>\n",
              "    </tr>\n",
              "  </tbody>\n",
              "</table>\n",
              "</div>"
            ],
            "text/plain": [
              "   Participant_ID  level                  cat_level  PHQ8_Score\n",
              "0           303.0      0  [1.0, 0.0, 0.0, 0.0, 0.0]           0\n",
              "1           304.0      2  [0.0, 0.0, 1.0, 0.0, 0.0]           6\n",
              "2           305.0      2  [0.0, 0.0, 1.0, 0.0, 0.0]           7\n",
              "3           310.0      1  [0.0, 1.0, 0.0, 0.0, 0.0]           4\n",
              "4           312.0      1  [0.0, 1.0, 0.0, 0.0, 0.0]           2"
            ]
          },
          "metadata": {
            "tags": []
          },
          "execution_count": 44
        }
      ]
    },
    {
      "cell_type": "code",
      "metadata": {
        "id": "DuuJM40XAoNy",
        "colab_type": "code",
        "outputId": "6d4094aa-8e01-49a3-b406-852dab7b80d6",
        "colab": {
          "base_uri": "https://localhost:8080/",
          "height": 35
        }
      },
      "source": [
        "ds_total = pd.concat([train,dev,test])\n",
        "total_phq8 = len(ds_total)\n",
        "print(\"Total size = {}\".format(total_phq8))"
      ],
      "execution_count": 0,
      "outputs": [
        {
          "output_type": "stream",
          "text": [
            "Total size = 189\n"
          ],
          "name": "stdout"
        }
      ]
    },
    {
      "cell_type": "code",
      "metadata": {
        "id": "N60_fF0mAoN1",
        "colab_type": "code",
        "outputId": "89592a78-0d82-4fc0-9c6b-335cf925d842",
        "colab": {
          "base_uri": "https://localhost:8080/",
          "height": 35
        }
      },
      "source": [
        "ds_total.to_csv( 'ds_total.csv', sep = '\\t')\n",
        "print('done')"
      ],
      "execution_count": 0,
      "outputs": [
        {
          "output_type": "stream",
          "text": [
            "done\n"
          ],
          "name": "stdout"
        }
      ]
    },
    {
      "cell_type": "code",
      "metadata": {
        "id": "DGFmOysxAoN3",
        "colab_type": "code",
        "colab": {}
      },
      "source": [
        "def split_by_phq_level(ds):\n",
        "    none_ds = ds[ds['level']==0]\n",
        "    mild_ds = ds[ds['level']==1]\n",
        "    moderate_ds = ds[ds['level']==2]\n",
        "    moderate_severe_ds = ds[ds['level']==3]\n",
        "    severe_ds = ds[ds['level']==4]\n",
        "    return (none_ds, mild_ds, moderate_ds, moderate_severe_ds, severe_ds)"
      ],
      "execution_count": 0,
      "outputs": []
    },
    {
      "cell_type": "code",
      "metadata": {
        "id": "-h3sGJfNAoN7",
        "colab_type": "code",
        "outputId": "8f895db6-a628-4084-8ce4-10482566d0e6",
        "colab": {
          "base_uri": "https://localhost:8080/",
          "height": 35
        }
      },
      "source": [
        "none_ds, mild_ds, moderate_ds, moderate_severe_ds, severe_ds = split_by_phq_level(ds_total)\n",
        "print(\"Quantity per none_ds: {}, mild_ds: {}, moderate_ds {}, moderate_severe_ds: {}, severe_ds {}\".format(len(none_ds), len(mild_ds), len(moderate_ds), len(moderate_severe_ds), len(severe_ds)))"
      ],
      "execution_count": 0,
      "outputs": [
        {
          "output_type": "stream",
          "text": [
            "Quantity per none_ds: 26, mild_ds: 70, moderate_ds 47, moderate_severe_ds: 24, severe_ds 22\n"
          ],
          "name": "stdout"
        }
      ]
    },
    {
      "cell_type": "code",
      "metadata": {
        "id": "palLGr2XAoN9",
        "colab_type": "code",
        "outputId": "a1670828-f053-4d97-aa60-50146d3e4cdd",
        "colab": {
          "base_uri": "https://localhost:8080/",
          "height": 35
        }
      },
      "source": [
        "b_none_ds = ds_total[ds_total['level']==0]\n",
        "b_mild_ds = ds_total[ds_total['level']==1].sample(26)\n",
        "b_moderate_ds = ds_total[ds_total['level']==2].sample(26)\n",
        "b_moderate_severe_ds = ds_total[ds_total['level']==3]\n",
        "b_severe_ds = ds_total[ds_total['level']==4]\n",
        "\n",
        "ds_total_b = pd.concat([b_none_ds, b_mild_ds, b_moderate_ds, b_moderate_severe_ds, b_severe_ds])\n",
        "print(\"Quantity per none_ds: {}, mild_ds: {}, moderate_ds {}, moderate_severe_ds: {}, severe_ds {}\".format(len(b_none_ds), len(b_mild_ds), len(b_moderate_ds), len(b_moderate_severe_ds), len(b_severe_ds)))"
      ],
      "execution_count": 0,
      "outputs": [
        {
          "output_type": "stream",
          "text": [
            "Quantity per none_ds: 26, mild_ds: 26, moderate_ds 26, moderate_severe_ds: 24, severe_ds 22\n"
          ],
          "name": "stdout"
        }
      ]
    },
    {
      "cell_type": "code",
      "metadata": {
        "id": "BhN4Y6nfAoOA",
        "colab_type": "code",
        "colab": {}
      },
      "source": [
        "ds_lp = pd.merge(ds_total, phrases_lp,left_on='Participant_ID', right_on='personId')\n",
        "ds_lp_b = pd.merge(ds_total_b, phrases_lp,left_on='Participant_ID', right_on='personId')"
      ],
      "execution_count": 0,
      "outputs": []
    },
    {
      "cell_type": "code",
      "metadata": {
        "id": "3UP6S0sUAoOE",
        "colab_type": "code",
        "colab": {}
      },
      "source": [
        "def distribute_instances(ds, split_in = [70,14,16]):\n",
        "    ds_shuffled = ds.sample(frac=1)\n",
        "    none_ds, mild_ds, moderate_ds, moderate_severe_ds, severe_ds = split_by_phq_level(ds_shuffled)\n",
        "    eq_ds = dict()\n",
        "    prev_none = prev_mild = prev_moderate = prev_moderate_severe = prev_severe = 0\n",
        "    split = split_in\n",
        "    for p in split:\n",
        "        last_none = min(len(none_ds), prev_none + round(len(none_ds) * p/100))\n",
        "        last_mild = min(len(mild_ds), prev_mild + round(len(mild_ds) * p/100))\n",
        "        last_moderate = min(len(moderate_ds), prev_moderate + round(len(moderate_ds) * p/100))\n",
        "        last_moderate_severe = min(len(moderate_severe_ds), prev_moderate_severe + round(len(moderate_severe_ds) * p/100))\n",
        "        last_severe = min(len(severe_ds), prev_severe + round(len(severe_ds) * p/100))  \n",
        "        eq_ds['d'+str(p)] = pd.concat([none_ds[prev_none: last_none], mild_ds[prev_mild: last_mild], moderate_ds[prev_moderate: last_moderate], moderate_severe_ds[prev_moderate_severe: last_moderate_severe], severe_ds[prev_severe: last_severe]])\n",
        "        prev_none = last_none\n",
        "        prev_mild = last_mild\n",
        "        prev_moderate = last_moderate\n",
        "        prev_moderate_severe = last_moderate_severe\n",
        "        prev_severe = last_severe  \n",
        "    return (eq_ds['d70'], eq_ds['d14'], eq_ds['d16'])"
      ],
      "execution_count": 0,
      "outputs": []
    },
    {
      "cell_type": "code",
      "metadata": {
        "id": "I_ErUtTwAoOI",
        "colab_type": "code",
        "colab": {}
      },
      "source": [
        "train_lp, dev_lp, test_lp = distribute_instances(ds_lp)\n",
        "train_lp_b, dev_lp_b, test_lp_b = distribute_instances(ds_lp_b)"
      ],
      "execution_count": 0,
      "outputs": []
    },
    {
      "cell_type": "code",
      "metadata": {
        "id": "cri2P9HfAoOM",
        "colab_type": "code",
        "outputId": "3ca3fe3f-f0e9-4172-8cca-9853937bff48",
        "colab": {
          "base_uri": "https://localhost:8080/",
          "height": 302
        }
      },
      "source": [
        "train_lp.tail()"
      ],
      "execution_count": 0,
      "outputs": [
        {
          "output_type": "execute_result",
          "data": {
            "text/html": [
              "<div>\n",
              "<style scoped>\n",
              "    .dataframe tbody tr th:only-of-type {\n",
              "        vertical-align: middle;\n",
              "    }\n",
              "\n",
              "    .dataframe tbody tr th {\n",
              "        vertical-align: top;\n",
              "    }\n",
              "\n",
              "    .dataframe thead th {\n",
              "        text-align: right;\n",
              "    }\n",
              "</style>\n",
              "<table border=\"1\" class=\"dataframe\">\n",
              "  <thead>\n",
              "    <tr style=\"text-align: right;\">\n",
              "      <th></th>\n",
              "      <th>Participant_ID</th>\n",
              "      <th>level</th>\n",
              "      <th>cat_level</th>\n",
              "      <th>PHQ8_Score</th>\n",
              "      <th>Unnamed: 0</th>\n",
              "      <th>personId</th>\n",
              "      <th>answer</th>\n",
              "      <th>t_answer</th>\n",
              "    </tr>\n",
              "  </thead>\n",
              "  <tbody>\n",
              "    <tr>\n",
              "      <th>109546</th>\n",
              "      <td>332.0</td>\n",
              "      <td>4</td>\n",
              "      <td>[0.0, 0.0, 0.0, 0.0, 1.0]</td>\n",
              "      <td>18</td>\n",
              "      <td>20629</td>\n",
              "      <td>332.0</td>\n",
              "      <td>['christ', 'that', 'mother', 'alive', 'well', ...</td>\n",
              "      <td>[3421, 20, 171, 646, 15, 86, 158, 308, 1119, 7]</td>\n",
              "    </tr>\n",
              "    <tr>\n",
              "      <th>81339</th>\n",
              "      <td>346.0</td>\n",
              "      <td>4</td>\n",
              "      <td>[0.0, 0.0, 0.0, 0.0, 1.0]</td>\n",
              "      <td>23</td>\n",
              "      <td>30397</td>\n",
              "      <td>346.0</td>\n",
              "      <td>['um', 'uh', 'yeah', 'i', 'am', 'like', 'l', '...</td>\n",
              "      <td>[1, 2, 11, 3, 6, 5, 112, 1542, 295, 1]</td>\n",
              "    </tr>\n",
              "    <tr>\n",
              "      <th>134886</th>\n",
              "      <td>453.0</td>\n",
              "      <td>4</td>\n",
              "      <td>[0.0, 0.0, 0.0, 0.0, 1.0]</td>\n",
              "      <td>17</td>\n",
              "      <td>116334</td>\n",
              "      <td>453.0</td>\n",
              "      <td>['yes', 'around', 'time', 'p', 't', 's', 'd', ...</td>\n",
              "      <td>[39, 91, 17, 433, 201, 228, 296, 2, 138, 22]</td>\n",
              "    </tr>\n",
              "    <tr>\n",
              "      <th>96675</th>\n",
              "      <td>440.0</td>\n",
              "      <td>4</td>\n",
              "      <td>[0.0, 0.0, 0.0, 0.0, 1.0]</td>\n",
              "      <td>19</td>\n",
              "      <td>106049</td>\n",
              "      <td>440.0</td>\n",
              "      <td>['throat', 'husband', 'um', 'asked', 'whether'...</td>\n",
              "      <td>[161, 287, 1, 753, 291, 102, 1342, 185, 893, 2]</td>\n",
              "    </tr>\n",
              "    <tr>\n",
              "      <th>106530</th>\n",
              "      <td>311.0</td>\n",
              "      <td>4</td>\n",
              "      <td>[0.0, 0.0, 0.0, 0.0, 1.0]</td>\n",
              "      <td>21</td>\n",
              "      <td>8413</td>\n",
              "      <td>311.0</td>\n",
              "      <td>['well', 'try', 'right', 'thing', 'um', 'alway...</td>\n",
              "      <td>[15, 62, 47, 9, 1, 50, 53, 39, 46, 15]</td>\n",
              "    </tr>\n",
              "  </tbody>\n",
              "</table>\n",
              "</div>"
            ],
            "text/plain": [
              "        Participant_ID  ...                                         t_answer\n",
              "109546           332.0  ...  [3421, 20, 171, 646, 15, 86, 158, 308, 1119, 7]\n",
              "81339            346.0  ...           [1, 2, 11, 3, 6, 5, 112, 1542, 295, 1]\n",
              "134886           453.0  ...     [39, 91, 17, 433, 201, 228, 296, 2, 138, 22]\n",
              "96675            440.0  ...  [161, 287, 1, 753, 291, 102, 1342, 185, 893, 2]\n",
              "106530           311.0  ...           [15, 62, 47, 9, 1, 50, 53, 39, 46, 15]\n",
              "\n",
              "[5 rows x 8 columns]"
            ]
          },
          "metadata": {
            "tags": []
          },
          "execution_count": 54
        }
      ]
    },
    {
      "cell_type": "code",
      "metadata": {
        "id": "pH7DWxRaAoOP",
        "colab_type": "code",
        "colab": {}
      },
      "source": [
        "def confusion_matrix(model, x, y):\n",
        "    prediction = model.predict(x, batch_size=None, verbose=0, steps=None)\n",
        "    labels=['none','mild','moderate','moderately severe', 'severe']\n",
        "\n",
        "    max_prediction = np.argmax(prediction, axis=1)\n",
        "    max_actual = np.argmax(y, axis=1)\n",
        "\n",
        "    y_pred = pd.Categorical.from_codes(max_prediction, labels)\n",
        "    y_actu = pd.Categorical.from_codes(max_actual, labels)\n",
        "\n",
        "    return pd.crosstab(y_actu, y_pred)"
      ],
      "execution_count": 0,
      "outputs": []
    },
    {
      "cell_type": "code",
      "metadata": {
        "id": "VCAxsT-nYlWI",
        "colab_type": "code",
        "outputId": "aeb0fe87-89a2-4889-9ce7-be563e12d930",
        "colab": {
          "base_uri": "https://localhost:8080/",
          "height": 146
        }
      },
      "source": [
        "from google.colab import drive\n",
        "drive.mount('/gdrive')\n",
        "%cd /gdrive"
      ],
      "execution_count": 0,
      "outputs": [
        {
          "output_type": "stream",
          "text": [
            "Go to this URL in a browser: https://accounts.google.com/o/oauth2/auth?client_id=947318989803-6bn6qk8qdgf4n4g3pfee6491hc0brc4i.apps.googleusercontent.com&redirect_uri=urn%3aietf%3awg%3aoauth%3a2.0%3aoob&response_type=code&scope=email%20https%3a%2f%2fwww.googleapis.com%2fauth%2fdocs.test%20https%3a%2f%2fwww.googleapis.com%2fauth%2fdrive%20https%3a%2f%2fwww.googleapis.com%2fauth%2fdrive.photos.readonly%20https%3a%2f%2fwww.googleapis.com%2fauth%2fpeopleapi.readonly\n",
            "\n",
            "Enter your authorization code:\n",
            "··········\n",
            "Mounted at /gdrive\n",
            "/gdrive\n"
          ],
          "name": "stdout"
        }
      ]
    },
    {
      "cell_type": "code",
      "metadata": {
        "id": "fH7aG7ZQ32Zi",
        "colab_type": "code",
        "outputId": "ac4e9573-a5e0-4e9c-d624-7a1c6aa03913",
        "colab": {
          "base_uri": "https://localhost:8080/",
          "height": 35
        }
      },
      "source": [
        "from google.colab import drive\n",
        "drive.mount('/content/drive')"
      ],
      "execution_count": 0,
      "outputs": [
        {
          "output_type": "stream",
          "text": [
            "Mounted at /content/drive\n"
          ],
          "name": "stdout"
        }
      ]
    },
    {
      "cell_type": "code",
      "metadata": {
        "id": "6jqV6vBrAoOT",
        "colab_type": "code",
        "colab": {}
      },
      "source": [
        "embeddings_index = dict()\n",
        "f = open('/content/drive/My Drive/glove.6B.100d.txt', encoding=\"utf8\")\n",
        "for line in f:\n",
        "    values = line.split()\n",
        "    word = values[0]\n",
        "    coefs = np.asarray(values[1:], dtype='float32')\n",
        "    embeddings_index[word] = coefs\n",
        "f.close()"
      ],
      "execution_count": 0,
      "outputs": []
    },
    {
      "cell_type": "code",
      "metadata": {
        "id": "h6rdeOmlAoOW",
        "colab_type": "code",
        "colab": {}
      },
      "source": [
        "def fill_embedding_matrix(tokenizer):\n",
        "    vocab_size = len(tokenizer.word_index)\n",
        "    embedding_matrix = np.zeros((vocab_size+1, 100))\n",
        "    for word, i in tokenizer.word_index.items():\n",
        "        embedding_vector = embeddings_index.get(word)\n",
        "        if embedding_vector is not None:        \n",
        "            embedding_matrix[i] = embedding_vector\n",
        "    return embedding_matrix"
      ],
      "execution_count": 0,
      "outputs": []
    },
    {
      "cell_type": "code",
      "metadata": {
        "id": "aITjHr1JAoOZ",
        "colab_type": "code",
        "colab": {}
      },
      "source": [
        "embedding_matrix_lp = fill_embedding_matrix(tokenizer)"
      ],
      "execution_count": 0,
      "outputs": []
    },
    {
      "cell_type": "code",
      "metadata": {
        "id": "fOW_kvvjAoOe",
        "colab_type": "code",
        "outputId": "2aa96403-28a7-4c47-b5e8-a76efa3fc201",
        "colab": {
          "base_uri": "https://localhost:8080/",
          "height": 302
        }
      },
      "source": [
        "train_lp.head()"
      ],
      "execution_count": 0,
      "outputs": [
        {
          "output_type": "execute_result",
          "data": {
            "text/html": [
              "<div>\n",
              "<style scoped>\n",
              "    .dataframe tbody tr th:only-of-type {\n",
              "        vertical-align: middle;\n",
              "    }\n",
              "\n",
              "    .dataframe tbody tr th {\n",
              "        vertical-align: top;\n",
              "    }\n",
              "\n",
              "    .dataframe thead th {\n",
              "        text-align: right;\n",
              "    }\n",
              "</style>\n",
              "<table border=\"1\" class=\"dataframe\">\n",
              "  <thead>\n",
              "    <tr style=\"text-align: right;\">\n",
              "      <th></th>\n",
              "      <th>Participant_ID</th>\n",
              "      <th>level</th>\n",
              "      <th>cat_level</th>\n",
              "      <th>PHQ8_Score</th>\n",
              "      <th>Unnamed: 0</th>\n",
              "      <th>personId</th>\n",
              "      <th>answer</th>\n",
              "      <th>t_answer</th>\n",
              "    </tr>\n",
              "  </thead>\n",
              "  <tbody>\n",
              "    <tr>\n",
              "      <th>25816</th>\n",
              "      <td>364.0</td>\n",
              "      <td>0</td>\n",
              "      <td>[1.0, 0.0, 0.0, 0.0, 0.0]</td>\n",
              "      <td>0</td>\n",
              "      <td>42314</td>\n",
              "      <td>364.0</td>\n",
              "      <td>['great', 'idea', 'used', 'uh', 'one', 'uh', '...</td>\n",
              "      <td>[84, 307, 134, 2, 24, 2, 636, 499, 143, 134]</td>\n",
              "    </tr>\n",
              "    <tr>\n",
              "      <th>32890</th>\n",
              "      <td>370.0</td>\n",
              "      <td>0</td>\n",
              "      <td>[1.0, 0.0, 0.0, 0.0, 0.0]</td>\n",
              "      <td>0</td>\n",
              "      <td>51829</td>\n",
              "      <td>370.0</td>\n",
              "      <td>['got', 'engaged', 'labor', 'day', 'uh', 'two'...</td>\n",
              "      <td>[56, 1481, 1540, 42, 2, 75, 418, 523, 557, 8]</td>\n",
              "    </tr>\n",
              "    <tr>\n",
              "      <th>76419</th>\n",
              "      <td>487.0</td>\n",
              "      <td>0</td>\n",
              "      <td>[1.0, 0.0, 0.0, 0.0, 0.0]</td>\n",
              "      <td>0</td>\n",
              "      <td>140180</td>\n",
              "      <td>487.0</td>\n",
              "      <td>['would', 'know', 'would', 'ss', 'would', 'kno...</td>\n",
              "      <td>[10, 4, 10, 1180, 10, 4, 89, 1768, 18, 29]</td>\n",
              "    </tr>\n",
              "    <tr>\n",
              "      <th>127020</th>\n",
              "      <td>411.0</td>\n",
              "      <td>0</td>\n",
              "      <td>[1.0, 0.0, 0.0, 0.0, 0.0]</td>\n",
              "      <td>0</td>\n",
              "      <td>83746</td>\n",
              "      <td>411.0</td>\n",
              "      <td>['murphy', 'law', 'that', 'way', 'sure']</td>\n",
              "      <td>[3536, 529, 20, 60, 97]</td>\n",
              "    </tr>\n",
              "    <tr>\n",
              "      <th>563</th>\n",
              "      <td>303.0</td>\n",
              "      <td>0</td>\n",
              "      <td>[1.0, 0.0, 0.0, 0.0, 0.0]</td>\n",
              "      <td>0</td>\n",
              "      <td>1852</td>\n",
              "      <td>303.0</td>\n",
              "      <td>['probably', 'would', 'have', 'stayed', 'schoo...</td>\n",
              "      <td>[27, 10, 13, 461, 59, 27, 153, 17, 66, 29]</td>\n",
              "    </tr>\n",
              "  </tbody>\n",
              "</table>\n",
              "</div>"
            ],
            "text/plain": [
              "        Participant_ID  ...                                       t_answer\n",
              "25816            364.0  ...   [84, 307, 134, 2, 24, 2, 636, 499, 143, 134]\n",
              "32890            370.0  ...  [56, 1481, 1540, 42, 2, 75, 418, 523, 557, 8]\n",
              "76419            487.0  ...     [10, 4, 10, 1180, 10, 4, 89, 1768, 18, 29]\n",
              "127020           411.0  ...                        [3536, 529, 20, 60, 97]\n",
              "563              303.0  ...     [27, 10, 13, 461, 59, 27, 153, 17, 66, 29]\n",
              "\n",
              "[5 rows x 8 columns]"
            ]
          },
          "metadata": {
            "tags": []
          },
          "execution_count": 61
        }
      ]
    },
    {
      "cell_type": "code",
      "metadata": {
        "id": "GPVeczcZAoOh",
        "colab_type": "code",
        "outputId": "d9579f52-a32f-4a17-9bea-1759a6d046c8",
        "colab": {
          "base_uri": "https://localhost:8080/",
          "height": 54
        }
      },
      "source": [
        "train_lp_copy = train_lp\n",
        "print(len(train_lp_copy))\n",
        "for index,row in train_lp_copy.iterrows():\n",
        "    if len(row['t_answer'])<10:\n",
        "        train_lp_copy.drop(index,inplace=True)\n",
        "print(len(train_lp_copy))"
      ],
      "execution_count": 0,
      "outputs": [
        {
          "output_type": "stream",
          "text": [
            "98800\n",
            "98800\n"
          ],
          "name": "stdout"
        }
      ]
    },
    {
      "cell_type": "code",
      "metadata": {
        "id": "8BG2xX01AoOl",
        "colab_type": "code",
        "colab": {}
      },
      "source": [
        "train_lp = train_lp_copy"
      ],
      "execution_count": 0,
      "outputs": []
    },
    {
      "cell_type": "code",
      "metadata": {
        "id": "Sjuvyjv3AoOp",
        "colab_type": "code",
        "outputId": "b948ee16-0d08-44e0-cac5-974078e7030e",
        "colab": {
          "base_uri": "https://localhost:8080/",
          "height": 54
        }
      },
      "source": [
        "dev_lp_copy = dev_lp\n",
        "print(len(dev_lp_copy))\n",
        "for index,row in dev_lp_copy.iterrows():\n",
        "    if len(row['t_answer'])<10:\n",
        "        dev_lp_copy.drop(index,inplace=True)\n",
        "print(len(dev_lp_copy))  \n",
        "dev_lp = dev_lp_copy"
      ],
      "execution_count": 0,
      "outputs": [
        {
          "output_type": "stream",
          "text": [
            "19993\n",
            "19745\n"
          ],
          "name": "stdout"
        }
      ]
    },
    {
      "cell_type": "code",
      "metadata": {
        "id": "ZaKTtFSrAoOr",
        "colab_type": "code",
        "outputId": "47581c1a-890a-4d33-e360-b5cd4d7b0b6e",
        "colab": {
          "base_uri": "https://localhost:8080/",
          "height": 54
        }
      },
      "source": [
        "test_lp_copy = test_lp\n",
        "print(len(test_lp_copy))\n",
        "for index,row in test_lp_copy.iterrows():\n",
        "    if len(row['t_answer'])<10:\n",
        "        test_lp_copy.drop(index,inplace=True)\n",
        "print(len(test_lp_copy))  \n",
        "test_lp = test_lp_copy"
      ],
      "execution_count": 0,
      "outputs": [
        {
          "output_type": "stream",
          "text": [
            "22849\n",
            "22591\n"
          ],
          "name": "stdout"
        }
      ]
    },
    {
      "cell_type": "code",
      "metadata": {
        "id": "sE2U1AQzAoOt",
        "colab_type": "code",
        "colab": {}
      },
      "source": [
        "train_a = np.stack(train_lp['t_answer'], axis=0)\n",
        "dev_a = np.stack(dev_lp['t_answer'], axis=0)\n",
        "train_y = np.stack(train_lp['cat_level'], axis=0)\n",
        "dev_y = np.stack(dev_lp['cat_level'], axis=0)"
      ],
      "execution_count": 0,
      "outputs": []
    },
    {
      "cell_type": "code",
      "metadata": {
        "id": "_-DP1xTaAoOu",
        "colab_type": "code",
        "outputId": "8a9b4fb2-dbdd-4320-9c48-2fcd67f6fcf7",
        "colab": {
          "base_uri": "https://localhost:8080/",
          "height": 54
        }
      },
      "source": [
        "train_lp_b_copy = train_lp_b\n",
        "print(len(train_lp_b_copy))\n",
        "for index,row in train_lp_b_copy.iterrows():\n",
        "    if len(row['t_answer'])<10:\n",
        "        train_lp_b_copy.drop(index,inplace=True)\n",
        "print(len(train_lp_b_copy))  \n",
        "train_lp_b = train_lp_b_copy"
      ],
      "execution_count": 0,
      "outputs": [
        {
          "output_type": "stream",
          "text": [
            "65054\n",
            "64269\n"
          ],
          "name": "stdout"
        }
      ]
    },
    {
      "cell_type": "code",
      "metadata": {
        "id": "RamhpafWAoOz",
        "colab_type": "code",
        "outputId": "8357caef-4d68-44f8-c906-6370f471f103",
        "colab": {
          "base_uri": "https://localhost:8080/",
          "height": 54
        }
      },
      "source": [
        "dev_lp_b_copy = dev_lp_b\n",
        "print(len(dev_lp_b_copy))\n",
        "for index,row in dev_lp_b_copy.iterrows():\n",
        "    if len(row['t_answer'])<10:\n",
        "        dev_lp_b_copy.drop(index,inplace=True)\n",
        "print(len(dev_lp_b_copy))  \n",
        "dev_lp_b = dev_lp_b_copy"
      ],
      "execution_count": 0,
      "outputs": [
        {
          "output_type": "stream",
          "text": [
            "13011\n",
            "12847\n"
          ],
          "name": "stdout"
        }
      ]
    },
    {
      "cell_type": "code",
      "metadata": {
        "id": "XvBJnMClAoO5",
        "colab_type": "code",
        "outputId": "562aac2d-2a64-44b1-bf22-760a9fb7fabf",
        "colab": {
          "base_uri": "https://localhost:8080/",
          "height": 54
        }
      },
      "source": [
        "test_lp_b_copy = test_lp_b\n",
        "print(len(test_lp_b_copy))\n",
        "for index,row in test_lp_b_copy.iterrows():\n",
        "    if len(row['t_answer'])<10:\n",
        "        test_lp_b_copy.drop(index,inplace=True)\n",
        "print(len(test_lp_b_copy))  \n",
        "test_lp_b = test_lp_b_copy"
      ],
      "execution_count": 0,
      "outputs": [
        {
          "output_type": "stream",
          "text": [
            "14868\n",
            "14700\n"
          ],
          "name": "stdout"
        }
      ]
    },
    {
      "cell_type": "code",
      "metadata": {
        "id": "R_lKi51WAoO9",
        "colab_type": "code",
        "colab": {}
      },
      "source": [
        "train_a_b = np.stack(train_lp_b['t_answer'], axis=0)\n",
        "dev_a_b = np.stack(dev_lp_b['t_answer'], axis=0)\n",
        "train_y_b = np.stack(train_lp_b['cat_level'], axis=0)\n",
        "dev_y_b = np.stack(dev_lp_b['cat_level'], axis=0)"
      ],
      "execution_count": 0,
      "outputs": []
    },
    {
      "cell_type": "code",
      "metadata": {
        "id": "d32fycvVAoO_",
        "colab_type": "code",
        "colab": {}
      },
      "source": [
        "early_stopping = EarlyStopping(monitor='val_loss', patience=3)"
      ],
      "execution_count": 0,
      "outputs": []
    },
    {
      "cell_type": "code",
      "metadata": {
        "id": "dq7qsj5qAoPG",
        "colab_type": "code",
        "outputId": "76e355db-f97e-4116-fdea-4d945aa7de1b",
        "colab": {
          "base_uri": "https://localhost:8080/",
          "height": 746
        }
      },
      "source": [
        "answer_inp = Input(shape=(windows_size, ))\n",
        "embedding_size_glove = 100\n",
        "answer_emb1 = Embedding(vocab_size_stop+1, embedding_size_glove, weights=[embedding_matrix_lp], input_length=windows_size, trainable=False)(answer_inp)\n",
        "\n",
        "bt = BatchNormalization()(answer_emb1)\n",
        "lstm = LSTM(embedding_size_glove, return_sequences=True, dropout=0.2, recurrent_dropout=0.2)(bt)\n",
        "\n",
        "dense1 = Dense(units=256, activation=\"relu\")(lstm)\n",
        "dense2 = Dense(units=256, activation=\"relu\")(dense1)\n",
        "\n",
        "flatten = Flatten()(dense2)\n",
        "\n",
        "out = Dense(5,  activation='softmax')(flatten)\n",
        "\n",
        "model = Model(inputs=[answer_inp], outputs=[out])\n",
        "model.compile(optimizer=\"adam\", loss='categorical_crossentropy', metrics=['accuracy'])\n",
        "model.summary()"
      ],
      "execution_count": 0,
      "outputs": [
        {
          "output_type": "stream",
          "text": [
            "WARNING:tensorflow:From /usr/local/lib/python3.6/dist-packages/keras/backend/tensorflow_backend.py:66: The name tf.get_default_graph is deprecated. Please use tf.compat.v1.get_default_graph instead.\n",
            "\n",
            "WARNING:tensorflow:From /usr/local/lib/python3.6/dist-packages/keras/backend/tensorflow_backend.py:541: The name tf.placeholder is deprecated. Please use tf.compat.v1.placeholder instead.\n",
            "\n",
            "WARNING:tensorflow:From /usr/local/lib/python3.6/dist-packages/keras/backend/tensorflow_backend.py:4432: The name tf.random_uniform is deprecated. Please use tf.random.uniform instead.\n",
            "\n",
            "WARNING:tensorflow:From /usr/local/lib/python3.6/dist-packages/keras/backend/tensorflow_backend.py:190: The name tf.get_default_session is deprecated. Please use tf.compat.v1.get_default_session instead.\n",
            "\n",
            "WARNING:tensorflow:From /usr/local/lib/python3.6/dist-packages/keras/backend/tensorflow_backend.py:197: The name tf.ConfigProto is deprecated. Please use tf.compat.v1.ConfigProto instead.\n",
            "\n",
            "WARNING:tensorflow:From /usr/local/lib/python3.6/dist-packages/keras/backend/tensorflow_backend.py:3733: calling dropout (from tensorflow.python.ops.nn_ops) with keep_prob is deprecated and will be removed in a future version.\n",
            "Instructions for updating:\n",
            "Please use `rate` instead of `keep_prob`. Rate should be set to `rate = 1 - keep_prob`.\n",
            "WARNING:tensorflow:From /usr/local/lib/python3.6/dist-packages/keras/optimizers.py:793: The name tf.train.Optimizer is deprecated. Please use tf.compat.v1.train.Optimizer instead.\n",
            "\n",
            "Model: \"model_1\"\n",
            "_________________________________________________________________\n",
            "Layer (type)                 Output Shape              Param #   \n",
            "=================================================================\n",
            "input_1 (InputLayer)         (None, 10)                0         \n",
            "_________________________________________________________________\n",
            "embedding_1 (Embedding)      (None, 10, 100)           745000    \n",
            "_________________________________________________________________\n",
            "batch_normalization_1 (Batch (None, 10, 100)           400       \n",
            "_________________________________________________________________\n",
            "lstm_1 (LSTM)                (None, 10, 100)           80400     \n",
            "_________________________________________________________________\n",
            "dense_1 (Dense)              (None, 10, 256)           25856     \n",
            "_________________________________________________________________\n",
            "dense_2 (Dense)              (None, 10, 256)           65792     \n",
            "_________________________________________________________________\n",
            "flatten_1 (Flatten)          (None, 2560)              0         \n",
            "_________________________________________________________________\n",
            "dense_3 (Dense)              (None, 5)                 12805     \n",
            "=================================================================\n",
            "Total params: 930,253\n",
            "Trainable params: 185,053\n",
            "Non-trainable params: 745,200\n",
            "_________________________________________________________________\n"
          ],
          "name": "stdout"
        }
      ]
    },
    {
      "cell_type": "code",
      "metadata": {
        "id": "M8YcpRRafIZ1",
        "colab_type": "code",
        "outputId": "9d63723f-327d-4d91-af37-462aeb176838",
        "colab": {
          "base_uri": "https://localhost:8080/",
          "height": 401
        }
      },
      "source": [
        "!pip install tensorflow==1.14.0"
      ],
      "execution_count": 0,
      "outputs": [
        {
          "output_type": "stream",
          "text": [
            "Requirement already satisfied: tensorflow==1.14.0 in /usr/local/lib/python3.6/dist-packages (1.14.0)\n",
            "Requirement already satisfied: google-pasta>=0.1.6 in /usr/local/lib/python3.6/dist-packages (from tensorflow==1.14.0) (0.2.0)\n",
            "Requirement already satisfied: tensorboard<1.15.0,>=1.14.0 in /usr/local/lib/python3.6/dist-packages (from tensorflow==1.14.0) (1.14.0)\n",
            "Requirement already satisfied: termcolor>=1.1.0 in /usr/local/lib/python3.6/dist-packages (from tensorflow==1.14.0) (1.1.0)\n",
            "Requirement already satisfied: gast>=0.2.0 in /usr/local/lib/python3.6/dist-packages (from tensorflow==1.14.0) (0.3.3)\n",
            "Requirement already satisfied: tensorflow-estimator<1.15.0rc0,>=1.14.0rc0 in /usr/local/lib/python3.6/dist-packages (from tensorflow==1.14.0) (1.14.0)\n",
            "Requirement already satisfied: wheel>=0.26 in /usr/local/lib/python3.6/dist-packages (from tensorflow==1.14.0) (0.34.2)\n",
            "Requirement already satisfied: grpcio>=1.8.6 in /usr/local/lib/python3.6/dist-packages (from tensorflow==1.14.0) (1.27.2)\n",
            "Requirement already satisfied: numpy<2.0,>=1.14.5 in /usr/local/lib/python3.6/dist-packages (from tensorflow==1.14.0) (1.18.2)\n",
            "Requirement already satisfied: astor>=0.6.0 in /usr/local/lib/python3.6/dist-packages (from tensorflow==1.14.0) (0.8.1)\n",
            "Requirement already satisfied: keras-applications>=1.0.6 in /usr/local/lib/python3.6/dist-packages (from tensorflow==1.14.0) (1.0.8)\n",
            "Requirement already satisfied: six>=1.10.0 in /usr/local/lib/python3.6/dist-packages (from tensorflow==1.14.0) (1.12.0)\n",
            "Requirement already satisfied: absl-py>=0.7.0 in /usr/local/lib/python3.6/dist-packages (from tensorflow==1.14.0) (0.9.0)\n",
            "Requirement already satisfied: keras-preprocessing>=1.0.5 in /usr/local/lib/python3.6/dist-packages (from tensorflow==1.14.0) (1.1.0)\n",
            "Requirement already satisfied: protobuf>=3.6.1 in /usr/local/lib/python3.6/dist-packages (from tensorflow==1.14.0) (3.10.0)\n",
            "Requirement already satisfied: wrapt>=1.11.1 in /usr/local/lib/python3.6/dist-packages (from tensorflow==1.14.0) (1.12.1)\n",
            "Requirement already satisfied: setuptools>=41.0.0 in /usr/local/lib/python3.6/dist-packages (from tensorboard<1.15.0,>=1.14.0->tensorflow==1.14.0) (46.1.3)\n",
            "Requirement already satisfied: werkzeug>=0.11.15 in /usr/local/lib/python3.6/dist-packages (from tensorboard<1.15.0,>=1.14.0->tensorflow==1.14.0) (1.0.1)\n",
            "Requirement already satisfied: markdown>=2.6.8 in /usr/local/lib/python3.6/dist-packages (from tensorboard<1.15.0,>=1.14.0->tensorflow==1.14.0) (3.2.1)\n",
            "Requirement already satisfied: h5py in /usr/local/lib/python3.6/dist-packages (from keras-applications>=1.0.6->tensorflow==1.14.0) (2.7.1)\n"
          ],
          "name": "stdout"
        }
      ]
    },
    {
      "cell_type": "code",
      "metadata": {
        "id": "oXlz8hdVedpp",
        "colab_type": "code",
        "outputId": "5ccf1eec-e51c-42a5-fe53-bdbf0904134a",
        "colab": {
          "base_uri": "https://localhost:8080/",
          "height": 35
        }
      },
      "source": [
        "import tensorflow\n",
        "print(tensorflow.__version__)"
      ],
      "execution_count": 0,
      "outputs": [
        {
          "output_type": "stream",
          "text": [
            "1.14.0\n"
          ],
          "name": "stdout"
        }
      ]
    },
    {
      "cell_type": "code",
      "metadata": {
        "id": "Z0cfGyJ2AoPI",
        "colab_type": "code",
        "outputId": "b70d329a-e9d3-428b-fe8f-0cfb4f652cf9",
        "colab": {
          "base_uri": "https://localhost:8080/",
          "height": 1000
        }
      },
      "source": [
        "model_glove_lstm_hist = model.fit(train_a, train_y, validation_data=(dev_a, dev_y), epochs=30, batch_size=64, shuffle=True, callbacks=[early_stopping])"
      ],
      "execution_count": 0,
      "outputs": [
        {
          "output_type": "stream",
          "text": [
            "WARNING:tensorflow:From /usr/local/lib/python3.6/dist-packages/tensorflow/python/ops/math_grad.py:1250: add_dispatch_support.<locals>.wrapper (from tensorflow.python.ops.array_ops) is deprecated and will be removed in a future version.\n",
            "Instructions for updating:\n",
            "Use tf.where in 2.0, which has the same broadcast rule as np.where\n",
            "Train on 98800 samples, validate on 19745 samples\n",
            "Epoch 1/30\n",
            "98800/98800 [==============================] - 62s 627us/step - loss: 1.4481 - acc: 0.3748 - val_loss: 1.3365 - val_acc: 0.4369\n",
            "Epoch 2/30\n",
            "98800/98800 [==============================] - 61s 614us/step - loss: 1.2563 - acc: 0.4792 - val_loss: 1.0794 - val_acc: 0.5702\n",
            "Epoch 3/30\n",
            "98800/98800 [==============================] - 61s 613us/step - loss: 1.0999 - acc: 0.5543 - val_loss: 0.9228 - val_acc: 0.6420\n",
            "Epoch 4/30\n",
            "98800/98800 [==============================] - 61s 614us/step - loss: 0.9941 - acc: 0.6040 - val_loss: 0.8179 - val_acc: 0.6861\n",
            "Epoch 5/30\n",
            "98800/98800 [==============================] - 61s 615us/step - loss: 0.9118 - acc: 0.6394 - val_loss: 0.7374 - val_acc: 0.7218\n",
            "Epoch 6/30\n",
            "98800/98800 [==============================] - 60s 611us/step - loss: 0.8559 - acc: 0.6645 - val_loss: 0.6524 - val_acc: 0.7602\n",
            "Epoch 7/30\n",
            "98800/98800 [==============================] - 60s 610us/step - loss: 0.8062 - acc: 0.6832 - val_loss: 0.6052 - val_acc: 0.7792\n",
            "Epoch 8/30\n",
            "98800/98800 [==============================] - 61s 616us/step - loss: 0.7641 - acc: 0.7039 - val_loss: 0.5445 - val_acc: 0.8041\n",
            "Epoch 9/30\n",
            "98800/98800 [==============================] - 62s 628us/step - loss: 0.7237 - acc: 0.7204 - val_loss: 0.4987 - val_acc: 0.8243\n",
            "Epoch 10/30\n",
            "98800/98800 [==============================] - 61s 619us/step - loss: 0.6904 - acc: 0.7351 - val_loss: 0.4674 - val_acc: 0.8326\n",
            "Epoch 11/30\n",
            "98800/98800 [==============================] - 61s 619us/step - loss: 0.6632 - acc: 0.7469 - val_loss: 0.4277 - val_acc: 0.8528\n",
            "Epoch 12/30\n",
            "98800/98800 [==============================] - 61s 614us/step - loss: 0.6323 - acc: 0.7595 - val_loss: 0.4084 - val_acc: 0.8579\n",
            "Epoch 13/30\n",
            "98800/98800 [==============================] - 61s 616us/step - loss: 0.6090 - acc: 0.7702 - val_loss: 0.3770 - val_acc: 0.8681\n",
            "Epoch 14/30\n",
            "98800/98800 [==============================] - 61s 618us/step - loss: 0.5898 - acc: 0.7765 - val_loss: 0.3522 - val_acc: 0.8781\n",
            "Epoch 15/30\n",
            "98800/98800 [==============================] - 62s 628us/step - loss: 0.5652 - acc: 0.7865 - val_loss: 0.3348 - val_acc: 0.8834\n",
            "Epoch 16/30\n",
            "98800/98800 [==============================] - 62s 625us/step - loss: 0.5443 - acc: 0.7942 - val_loss: 0.3089 - val_acc: 0.8944\n",
            "Epoch 17/30\n",
            "98800/98800 [==============================] - 62s 624us/step - loss: 0.5248 - acc: 0.8035 - val_loss: 0.2991 - val_acc: 0.9008\n",
            "Epoch 18/30\n",
            "98800/98800 [==============================] - 61s 622us/step - loss: 0.5102 - acc: 0.8093 - val_loss: 0.2858 - val_acc: 0.9053\n",
            "Epoch 19/30\n",
            "98800/98800 [==============================] - 63s 639us/step - loss: 0.4992 - acc: 0.8136 - val_loss: 0.2696 - val_acc: 0.9086\n",
            "Epoch 20/30\n",
            "98800/98800 [==============================] - 61s 621us/step - loss: 0.4806 - acc: 0.8215 - val_loss: 0.2517 - val_acc: 0.9165\n",
            "Epoch 21/30\n",
            "98800/98800 [==============================] - 61s 619us/step - loss: 0.4660 - acc: 0.8256 - val_loss: 0.2444 - val_acc: 0.9169\n",
            "Epoch 22/30\n",
            "98800/98800 [==============================] - 61s 615us/step - loss: 0.4569 - acc: 0.8300 - val_loss: 0.2407 - val_acc: 0.9200\n",
            "Epoch 23/30\n",
            "98800/98800 [==============================] - 61s 619us/step - loss: 0.4422 - acc: 0.8351 - val_loss: 0.2168 - val_acc: 0.9284\n",
            "Epoch 24/30\n",
            "98800/98800 [==============================] - 61s 621us/step - loss: 0.4313 - acc: 0.8392 - val_loss: 0.2104 - val_acc: 0.9308\n",
            "Epoch 25/30\n",
            "98800/98800 [==============================] - 61s 622us/step - loss: 0.4202 - acc: 0.8439 - val_loss: 0.2065 - val_acc: 0.9332\n",
            "Epoch 26/30\n",
            "98800/98800 [==============================] - 62s 628us/step - loss: 0.4087 - acc: 0.8499 - val_loss: 0.2032 - val_acc: 0.9293\n",
            "Epoch 27/30\n",
            "98800/98800 [==============================] - 62s 628us/step - loss: 0.4037 - acc: 0.8512 - val_loss: 0.1785 - val_acc: 0.9441\n",
            "Epoch 28/30\n",
            "98800/98800 [==============================] - 62s 630us/step - loss: 0.3911 - acc: 0.8564 - val_loss: 0.1774 - val_acc: 0.9421\n",
            "Epoch 29/30\n",
            "98800/98800 [==============================] - 64s 645us/step - loss: 0.3847 - acc: 0.8578 - val_loss: 0.1730 - val_acc: 0.9430\n",
            "Epoch 30/30\n",
            "98800/98800 [==============================] - 62s 631us/step - loss: 0.3798 - acc: 0.8600 - val_loss: 0.1681 - val_acc: 0.9443\n"
          ],
          "name": "stdout"
        }
      ]
    },
    {
      "cell_type": "code",
      "metadata": {
        "id": "phpsPO7-AoPK",
        "colab_type": "code",
        "outputId": "90c4193d-873c-4585-fad5-72e3720caefa",
        "colab": {
          "base_uri": "https://localhost:8080/",
          "height": 690
        }
      },
      "source": [
        "model_glove_lstm_hist_b = model.fit(train_a_b, train_y_b, validation_data=(dev_a_b, dev_y_b), epochs=30, batch_size=64, shuffle=True, callbacks=[early_stopping])"
      ],
      "execution_count": 0,
      "outputs": [
        {
          "output_type": "stream",
          "text": [
            "Train on 64269 samples, validate on 12847 samples\n",
            "Epoch 1/30\n",
            "64269/64269 [==============================] - 40s 629us/step - loss: 0.3851 - acc: 0.8599 - val_loss: 0.0716 - val_acc: 0.9830\n",
            "Epoch 2/30\n",
            "64269/64269 [==============================] - 40s 628us/step - loss: 0.3352 - acc: 0.8789 - val_loss: 0.0596 - val_acc: 0.9846\n",
            "Epoch 3/30\n",
            "64269/64269 [==============================] - 41s 633us/step - loss: 0.3082 - acc: 0.8884 - val_loss: 0.0555 - val_acc: 0.9854\n",
            "Epoch 4/30\n",
            "64269/64269 [==============================] - 40s 626us/step - loss: 0.2888 - acc: 0.8959 - val_loss: 0.0528 - val_acc: 0.9865\n",
            "Epoch 5/30\n",
            "64269/64269 [==============================] - 40s 625us/step - loss: 0.2740 - acc: 0.8998 - val_loss: 0.0512 - val_acc: 0.9867\n",
            "Epoch 6/30\n",
            "64269/64269 [==============================] - 40s 624us/step - loss: 0.2631 - acc: 0.9057 - val_loss: 0.0543 - val_acc: 0.9849\n",
            "Epoch 7/30\n",
            "64269/64269 [==============================] - 40s 627us/step - loss: 0.2575 - acc: 0.9070 - val_loss: 0.0463 - val_acc: 0.9882\n",
            "Epoch 8/30\n",
            "64269/64269 [==============================] - 40s 630us/step - loss: 0.2459 - acc: 0.9129 - val_loss: 0.0430 - val_acc: 0.9880\n",
            "Epoch 9/30\n",
            "64269/64269 [==============================] - 40s 626us/step - loss: 0.2415 - acc: 0.9145 - val_loss: 0.0454 - val_acc: 0.9877\n",
            "Epoch 10/30\n",
            "64269/64269 [==============================] - 40s 622us/step - loss: 0.2360 - acc: 0.9157 - val_loss: 0.0423 - val_acc: 0.9889\n",
            "Epoch 11/30\n",
            "64269/64269 [==============================] - 40s 620us/step - loss: 0.2252 - acc: 0.9188 - val_loss: 0.0429 - val_acc: 0.9884\n",
            "Epoch 12/30\n",
            "64269/64269 [==============================] - 40s 622us/step - loss: 0.2168 - acc: 0.9232 - val_loss: 0.0433 - val_acc: 0.9865\n",
            "Epoch 13/30\n",
            "64269/64269 [==============================] - 41s 643us/step - loss: 0.2124 - acc: 0.9247 - val_loss: 0.0422 - val_acc: 0.9889\n",
            "Epoch 14/30\n",
            "64269/64269 [==============================] - 40s 616us/step - loss: 0.2102 - acc: 0.9249 - val_loss: 0.0408 - val_acc: 0.9879\n",
            "Epoch 15/30\n",
            "64269/64269 [==============================] - 40s 626us/step - loss: 0.2091 - acc: 0.9260 - val_loss: 0.0362 - val_acc: 0.9893\n",
            "Epoch 16/30\n",
            "64269/64269 [==============================] - 41s 641us/step - loss: 0.2033 - acc: 0.9272 - val_loss: 0.0381 - val_acc: 0.9886\n",
            "Epoch 17/30\n",
            "64269/64269 [==============================] - 41s 640us/step - loss: 0.2015 - acc: 0.9276 - val_loss: 0.0422 - val_acc: 0.9862\n",
            "Epoch 18/30\n",
            "64269/64269 [==============================] - 41s 635us/step - loss: 0.1967 - acc: 0.9306 - val_loss: 0.0388 - val_acc: 0.9895\n"
          ],
          "name": "stdout"
        }
      ]
    },
    {
      "cell_type": "code",
      "metadata": {
        "id": "__zwtdvXAoPN",
        "colab_type": "code",
        "colab": {}
      },
      "source": [
        "test_a = np.stack(test_lp['t_answer'], axis=0)\n",
        "test_y = np.stack(test_lp['cat_level'], axis=0)\n",
        "test_a_b = np.stack(test_lp_b['t_answer'], axis=0)\n",
        "test_y_b = np.stack(test_lp_b['cat_level'], axis=0)\n",
        "df_confusion = confusion_matrix(model, test_a_b, test_y_b)"
      ],
      "execution_count": 0,
      "outputs": []
    },
    {
      "cell_type": "code",
      "metadata": {
        "id": "8zwSrqwwAoPR",
        "colab_type": "code",
        "outputId": "24acf426-431a-48a4-bbf6-649f41de1690",
        "colab": {
          "base_uri": "https://localhost:8080/",
          "height": 228
        }
      },
      "source": [
        "df_confusion"
      ],
      "execution_count": 0,
      "outputs": [
        {
          "output_type": "execute_result",
          "data": {
            "text/html": [
              "<div>\n",
              "<style scoped>\n",
              "    .dataframe tbody tr th:only-of-type {\n",
              "        vertical-align: middle;\n",
              "    }\n",
              "\n",
              "    .dataframe tbody tr th {\n",
              "        vertical-align: top;\n",
              "    }\n",
              "\n",
              "    .dataframe thead th {\n",
              "        text-align: right;\n",
              "    }\n",
              "</style>\n",
              "<table border=\"1\" class=\"dataframe\">\n",
              "  <thead>\n",
              "    <tr style=\"text-align: right;\">\n",
              "      <th>col_0</th>\n",
              "      <th>none</th>\n",
              "      <th>mild</th>\n",
              "      <th>moderate</th>\n",
              "      <th>moderately severe</th>\n",
              "      <th>severe</th>\n",
              "    </tr>\n",
              "    <tr>\n",
              "      <th>row_0</th>\n",
              "      <th></th>\n",
              "      <th></th>\n",
              "      <th></th>\n",
              "      <th></th>\n",
              "      <th></th>\n",
              "    </tr>\n",
              "  </thead>\n",
              "  <tbody>\n",
              "    <tr>\n",
              "      <th>none</th>\n",
              "      <td>3495</td>\n",
              "      <td>8</td>\n",
              "      <td>21</td>\n",
              "      <td>20</td>\n",
              "      <td>16</td>\n",
              "    </tr>\n",
              "    <tr>\n",
              "      <th>mild</th>\n",
              "      <td>12</td>\n",
              "      <td>2474</td>\n",
              "      <td>13</td>\n",
              "      <td>7</td>\n",
              "      <td>13</td>\n",
              "    </tr>\n",
              "    <tr>\n",
              "      <th>moderate</th>\n",
              "      <td>7</td>\n",
              "      <td>3</td>\n",
              "      <td>3399</td>\n",
              "      <td>2</td>\n",
              "      <td>10</td>\n",
              "    </tr>\n",
              "    <tr>\n",
              "      <th>moderately severe</th>\n",
              "      <td>7</td>\n",
              "      <td>7</td>\n",
              "      <td>15</td>\n",
              "      <td>2769</td>\n",
              "      <td>11</td>\n",
              "    </tr>\n",
              "    <tr>\n",
              "      <th>severe</th>\n",
              "      <td>0</td>\n",
              "      <td>2</td>\n",
              "      <td>12</td>\n",
              "      <td>2</td>\n",
              "      <td>2375</td>\n",
              "    </tr>\n",
              "  </tbody>\n",
              "</table>\n",
              "</div>"
            ],
            "text/plain": [
              "col_0              none  mild  moderate  moderately severe  severe\n",
              "row_0                                                             \n",
              "none               3495     8        21                 20      16\n",
              "mild                 12  2474        13                  7      13\n",
              "moderate              7     3      3399                  2      10\n",
              "moderately severe     7     7        15               2769      11\n",
              "severe                0     2        12                  2    2375"
            ]
          },
          "metadata": {
            "tags": []
          },
          "execution_count": 79
        }
      ]
    },
    {
      "cell_type": "code",
      "metadata": {
        "id": "KFYSK7c0AoPU",
        "colab_type": "code",
        "outputId": "4fafe9dc-c6fc-48a4-bd4d-90da9cfdfa8b",
        "colab": {
          "base_uri": "https://localhost:8080/",
          "height": 524
        }
      },
      "source": [
        "model.save('model_glove_lstm_b.h5')\n",
        "json_dict = model_glove_lstm_hist.history\n",
        "with open('model_glove_lstm_b_hist.json', 'w') as f:\n",
        "    f.write(str(json_dict))\n",
        "print('File got created')"
      ],
      "execution_count": 0,
      "outputs": [
        {
          "output_type": "error",
          "ename": "OSError",
          "evalue": "ignored",
          "traceback": [
            "\u001b[0;31m---------------------------------------------------------------------------\u001b[0m",
            "\u001b[0;31mOSError\u001b[0m                                   Traceback (most recent call last)",
            "\u001b[0;32m<ipython-input-80-a3ed7f8a9b07>\u001b[0m in \u001b[0;36m<module>\u001b[0;34m()\u001b[0m\n\u001b[0;32m----> 1\u001b[0;31m \u001b[0mmodel\u001b[0m\u001b[0;34m.\u001b[0m\u001b[0msave\u001b[0m\u001b[0;34m(\u001b[0m\u001b[0;34m'model_glove_lstm_b.h5'\u001b[0m\u001b[0;34m)\u001b[0m\u001b[0;34m\u001b[0m\u001b[0;34m\u001b[0m\u001b[0m\n\u001b[0m\u001b[1;32m      2\u001b[0m \u001b[0mjson_dict\u001b[0m \u001b[0;34m=\u001b[0m \u001b[0mmodel_glove_lstm_hist\u001b[0m\u001b[0;34m.\u001b[0m\u001b[0mhistory\u001b[0m\u001b[0;34m\u001b[0m\u001b[0;34m\u001b[0m\u001b[0m\n\u001b[1;32m      3\u001b[0m \u001b[0;32mwith\u001b[0m \u001b[0mopen\u001b[0m\u001b[0;34m(\u001b[0m\u001b[0;34m'model_glove_lstm_b_hist.json'\u001b[0m\u001b[0;34m,\u001b[0m \u001b[0;34m'w'\u001b[0m\u001b[0;34m)\u001b[0m \u001b[0;32mas\u001b[0m \u001b[0mf\u001b[0m\u001b[0;34m:\u001b[0m\u001b[0;34m\u001b[0m\u001b[0;34m\u001b[0m\u001b[0m\n\u001b[1;32m      4\u001b[0m     \u001b[0mf\u001b[0m\u001b[0;34m.\u001b[0m\u001b[0mwrite\u001b[0m\u001b[0;34m(\u001b[0m\u001b[0mstr\u001b[0m\u001b[0;34m(\u001b[0m\u001b[0mjson_dict\u001b[0m\u001b[0;34m)\u001b[0m\u001b[0;34m)\u001b[0m\u001b[0;34m\u001b[0m\u001b[0;34m\u001b[0m\u001b[0m\n\u001b[1;32m      5\u001b[0m \u001b[0mprint\u001b[0m\u001b[0;34m(\u001b[0m\u001b[0;34m'File got created'\u001b[0m\u001b[0;34m)\u001b[0m\u001b[0;34m\u001b[0m\u001b[0;34m\u001b[0m\u001b[0m\n",
            "\u001b[0;32m/usr/local/lib/python3.6/dist-packages/keras/engine/network.py\u001b[0m in \u001b[0;36msave\u001b[0;34m(self, filepath, overwrite, include_optimizer)\u001b[0m\n\u001b[1;32m   1137\u001b[0m             \u001b[0;32mraise\u001b[0m \u001b[0mNotImplementedError\u001b[0m\u001b[0;34m\u001b[0m\u001b[0;34m\u001b[0m\u001b[0m\n\u001b[1;32m   1138\u001b[0m         \u001b[0;32mfrom\u001b[0m \u001b[0;34m.\u001b[0m\u001b[0;34m.\u001b[0m\u001b[0mmodels\u001b[0m \u001b[0;32mimport\u001b[0m \u001b[0msave_model\u001b[0m\u001b[0;34m\u001b[0m\u001b[0;34m\u001b[0m\u001b[0m\n\u001b[0;32m-> 1139\u001b[0;31m         \u001b[0msave_model\u001b[0m\u001b[0;34m(\u001b[0m\u001b[0mself\u001b[0m\u001b[0;34m,\u001b[0m \u001b[0mfilepath\u001b[0m\u001b[0;34m,\u001b[0m \u001b[0moverwrite\u001b[0m\u001b[0;34m,\u001b[0m \u001b[0minclude_optimizer\u001b[0m\u001b[0;34m)\u001b[0m\u001b[0;34m\u001b[0m\u001b[0;34m\u001b[0m\u001b[0m\n\u001b[0m\u001b[1;32m   1140\u001b[0m \u001b[0;34m\u001b[0m\u001b[0m\n\u001b[1;32m   1141\u001b[0m     \u001b[0;34m@\u001b[0m\u001b[0msaving\u001b[0m\u001b[0;34m.\u001b[0m\u001b[0mallow_write_to_gcs\u001b[0m\u001b[0;34m\u001b[0m\u001b[0;34m\u001b[0m\u001b[0m\n",
            "\u001b[0;32m/usr/local/lib/python3.6/dist-packages/keras/engine/saving.py\u001b[0m in \u001b[0;36msave_wrapper\u001b[0;34m(obj, filepath, overwrite, *args, **kwargs)\u001b[0m\n\u001b[1;32m    413\u001b[0m                 \u001b[0mos\u001b[0m\u001b[0;34m.\u001b[0m\u001b[0mremove\u001b[0m\u001b[0;34m(\u001b[0m\u001b[0mtmp_filepath\u001b[0m\u001b[0;34m)\u001b[0m\u001b[0;34m\u001b[0m\u001b[0;34m\u001b[0m\u001b[0m\n\u001b[1;32m    414\u001b[0m         \u001b[0;32melse\u001b[0m\u001b[0;34m:\u001b[0m\u001b[0;34m\u001b[0m\u001b[0;34m\u001b[0m\u001b[0m\n\u001b[0;32m--> 415\u001b[0;31m             \u001b[0msave_function\u001b[0m\u001b[0;34m(\u001b[0m\u001b[0mobj\u001b[0m\u001b[0;34m,\u001b[0m \u001b[0mfilepath\u001b[0m\u001b[0;34m,\u001b[0m \u001b[0moverwrite\u001b[0m\u001b[0;34m,\u001b[0m \u001b[0;34m*\u001b[0m\u001b[0margs\u001b[0m\u001b[0;34m,\u001b[0m \u001b[0;34m**\u001b[0m\u001b[0mkwargs\u001b[0m\u001b[0;34m)\u001b[0m\u001b[0;34m\u001b[0m\u001b[0;34m\u001b[0m\u001b[0m\n\u001b[0m\u001b[1;32m    416\u001b[0m \u001b[0;34m\u001b[0m\u001b[0m\n\u001b[1;32m    417\u001b[0m     \u001b[0;32mreturn\u001b[0m \u001b[0msave_wrapper\u001b[0m\u001b[0;34m\u001b[0m\u001b[0;34m\u001b[0m\u001b[0m\n",
            "\u001b[0;32m/usr/local/lib/python3.6/dist-packages/keras/engine/saving.py\u001b[0m in \u001b[0;36msave_model\u001b[0;34m(model, filepath, overwrite, include_optimizer)\u001b[0m\n\u001b[1;32m    504\u001b[0m             \u001b[0;32mif\u001b[0m \u001b[0;32mnot\u001b[0m \u001b[0mproceed\u001b[0m\u001b[0;34m:\u001b[0m\u001b[0;34m\u001b[0m\u001b[0;34m\u001b[0m\u001b[0m\n\u001b[1;32m    505\u001b[0m                 \u001b[0;32mreturn\u001b[0m\u001b[0;34m\u001b[0m\u001b[0;34m\u001b[0m\u001b[0m\n\u001b[0;32m--> 506\u001b[0;31m         \u001b[0;32mwith\u001b[0m \u001b[0mH5Dict\u001b[0m\u001b[0;34m(\u001b[0m\u001b[0mfilepath\u001b[0m\u001b[0;34m,\u001b[0m \u001b[0mmode\u001b[0m\u001b[0;34m=\u001b[0m\u001b[0;34m'w'\u001b[0m\u001b[0;34m)\u001b[0m \u001b[0;32mas\u001b[0m \u001b[0mh5dict\u001b[0m\u001b[0;34m:\u001b[0m\u001b[0;34m\u001b[0m\u001b[0;34m\u001b[0m\u001b[0m\n\u001b[0m\u001b[1;32m    507\u001b[0m             \u001b[0m_serialize_model\u001b[0m\u001b[0;34m(\u001b[0m\u001b[0mmodel\u001b[0m\u001b[0;34m,\u001b[0m \u001b[0mh5dict\u001b[0m\u001b[0;34m,\u001b[0m \u001b[0minclude_optimizer\u001b[0m\u001b[0;34m)\u001b[0m\u001b[0;34m\u001b[0m\u001b[0;34m\u001b[0m\u001b[0m\n\u001b[1;32m    508\u001b[0m     \u001b[0;32melif\u001b[0m \u001b[0mhasattr\u001b[0m\u001b[0;34m(\u001b[0m\u001b[0mfilepath\u001b[0m\u001b[0;34m,\u001b[0m \u001b[0;34m'write'\u001b[0m\u001b[0;34m)\u001b[0m \u001b[0;32mand\u001b[0m \u001b[0mcallable\u001b[0m\u001b[0;34m(\u001b[0m\u001b[0mfilepath\u001b[0m\u001b[0;34m.\u001b[0m\u001b[0mwrite\u001b[0m\u001b[0;34m)\u001b[0m\u001b[0;34m:\u001b[0m\u001b[0;34m\u001b[0m\u001b[0;34m\u001b[0m\u001b[0m\n",
            "\u001b[0;32m/usr/local/lib/python3.6/dist-packages/keras/utils/io_utils.py\u001b[0m in \u001b[0;36m__init__\u001b[0;34m(self, path, mode)\u001b[0m\n\u001b[1;32m    189\u001b[0m             \u001b[0mself\u001b[0m\u001b[0;34m.\u001b[0m\u001b[0m_is_file\u001b[0m \u001b[0;34m=\u001b[0m \u001b[0;32mFalse\u001b[0m\u001b[0;34m\u001b[0m\u001b[0;34m\u001b[0m\u001b[0m\n\u001b[1;32m    190\u001b[0m         \u001b[0;32melif\u001b[0m \u001b[0misinstance\u001b[0m\u001b[0;34m(\u001b[0m\u001b[0mpath\u001b[0m\u001b[0;34m,\u001b[0m \u001b[0msix\u001b[0m\u001b[0;34m.\u001b[0m\u001b[0mstring_types\u001b[0m\u001b[0;34m)\u001b[0m \u001b[0;32mor\u001b[0m \u001b[0m_is_path_instance\u001b[0m\u001b[0;34m(\u001b[0m\u001b[0mpath\u001b[0m\u001b[0;34m)\u001b[0m\u001b[0;34m:\u001b[0m\u001b[0;34m\u001b[0m\u001b[0;34m\u001b[0m\u001b[0m\n\u001b[0;32m--> 191\u001b[0;31m             \u001b[0mself\u001b[0m\u001b[0;34m.\u001b[0m\u001b[0mdata\u001b[0m \u001b[0;34m=\u001b[0m \u001b[0mh5py\u001b[0m\u001b[0;34m.\u001b[0m\u001b[0mFile\u001b[0m\u001b[0;34m(\u001b[0m\u001b[0mpath\u001b[0m\u001b[0;34m,\u001b[0m \u001b[0mmode\u001b[0m\u001b[0;34m=\u001b[0m\u001b[0mmode\u001b[0m\u001b[0;34m)\u001b[0m\u001b[0;34m\u001b[0m\u001b[0;34m\u001b[0m\u001b[0m\n\u001b[0m\u001b[1;32m    192\u001b[0m             \u001b[0mself\u001b[0m\u001b[0;34m.\u001b[0m\u001b[0m_is_file\u001b[0m \u001b[0;34m=\u001b[0m \u001b[0;32mTrue\u001b[0m\u001b[0;34m\u001b[0m\u001b[0;34m\u001b[0m\u001b[0m\n\u001b[1;32m    193\u001b[0m         \u001b[0;32melif\u001b[0m \u001b[0misinstance\u001b[0m\u001b[0;34m(\u001b[0m\u001b[0mpath\u001b[0m\u001b[0;34m,\u001b[0m \u001b[0mdict\u001b[0m\u001b[0;34m)\u001b[0m\u001b[0;34m:\u001b[0m\u001b[0;34m\u001b[0m\u001b[0;34m\u001b[0m\u001b[0m\n",
            "\u001b[0;32m/usr/local/lib/python3.6/dist-packages/h5py/_hl/files.py\u001b[0m in \u001b[0;36m__init__\u001b[0;34m(self, name, mode, driver, libver, userblock_size, swmr, **kwds)\u001b[0m\n\u001b[1;32m    267\u001b[0m             \u001b[0;32mwith\u001b[0m \u001b[0mphil\u001b[0m\u001b[0;34m:\u001b[0m\u001b[0;34m\u001b[0m\u001b[0;34m\u001b[0m\u001b[0m\n\u001b[1;32m    268\u001b[0m                 \u001b[0mfapl\u001b[0m \u001b[0;34m=\u001b[0m \u001b[0mmake_fapl\u001b[0m\u001b[0;34m(\u001b[0m\u001b[0mdriver\u001b[0m\u001b[0;34m,\u001b[0m \u001b[0mlibver\u001b[0m\u001b[0;34m,\u001b[0m \u001b[0;34m**\u001b[0m\u001b[0mkwds\u001b[0m\u001b[0;34m)\u001b[0m\u001b[0;34m\u001b[0m\u001b[0;34m\u001b[0m\u001b[0m\n\u001b[0;32m--> 269\u001b[0;31m                 \u001b[0mfid\u001b[0m \u001b[0;34m=\u001b[0m \u001b[0mmake_fid\u001b[0m\u001b[0;34m(\u001b[0m\u001b[0mname\u001b[0m\u001b[0;34m,\u001b[0m \u001b[0mmode\u001b[0m\u001b[0;34m,\u001b[0m \u001b[0muserblock_size\u001b[0m\u001b[0;34m,\u001b[0m \u001b[0mfapl\u001b[0m\u001b[0;34m,\u001b[0m \u001b[0mswmr\u001b[0m\u001b[0;34m=\u001b[0m\u001b[0mswmr\u001b[0m\u001b[0;34m)\u001b[0m\u001b[0;34m\u001b[0m\u001b[0;34m\u001b[0m\u001b[0m\n\u001b[0m\u001b[1;32m    270\u001b[0m \u001b[0;34m\u001b[0m\u001b[0m\n\u001b[1;32m    271\u001b[0m                 \u001b[0;32mif\u001b[0m \u001b[0mswmr_support\u001b[0m\u001b[0;34m:\u001b[0m\u001b[0;34m\u001b[0m\u001b[0;34m\u001b[0m\u001b[0m\n",
            "\u001b[0;32m/usr/local/lib/python3.6/dist-packages/h5py/_hl/files.py\u001b[0m in \u001b[0;36mmake_fid\u001b[0;34m(name, mode, userblock_size, fapl, fcpl, swmr)\u001b[0m\n\u001b[1;32m    103\u001b[0m         \u001b[0mfid\u001b[0m \u001b[0;34m=\u001b[0m \u001b[0mh5f\u001b[0m\u001b[0;34m.\u001b[0m\u001b[0mcreate\u001b[0m\u001b[0;34m(\u001b[0m\u001b[0mname\u001b[0m\u001b[0;34m,\u001b[0m \u001b[0mh5f\u001b[0m\u001b[0;34m.\u001b[0m\u001b[0mACC_EXCL\u001b[0m\u001b[0;34m,\u001b[0m \u001b[0mfapl\u001b[0m\u001b[0;34m=\u001b[0m\u001b[0mfapl\u001b[0m\u001b[0;34m,\u001b[0m \u001b[0mfcpl\u001b[0m\u001b[0;34m=\u001b[0m\u001b[0mfcpl\u001b[0m\u001b[0;34m)\u001b[0m\u001b[0;34m\u001b[0m\u001b[0;34m\u001b[0m\u001b[0m\n\u001b[1;32m    104\u001b[0m     \u001b[0;32melif\u001b[0m \u001b[0mmode\u001b[0m \u001b[0;34m==\u001b[0m \u001b[0;34m'w'\u001b[0m\u001b[0;34m:\u001b[0m\u001b[0;34m\u001b[0m\u001b[0;34m\u001b[0m\u001b[0m\n\u001b[0;32m--> 105\u001b[0;31m         \u001b[0mfid\u001b[0m \u001b[0;34m=\u001b[0m \u001b[0mh5f\u001b[0m\u001b[0;34m.\u001b[0m\u001b[0mcreate\u001b[0m\u001b[0;34m(\u001b[0m\u001b[0mname\u001b[0m\u001b[0;34m,\u001b[0m \u001b[0mh5f\u001b[0m\u001b[0;34m.\u001b[0m\u001b[0mACC_TRUNC\u001b[0m\u001b[0;34m,\u001b[0m \u001b[0mfapl\u001b[0m\u001b[0;34m=\u001b[0m\u001b[0mfapl\u001b[0m\u001b[0;34m,\u001b[0m \u001b[0mfcpl\u001b[0m\u001b[0;34m=\u001b[0m\u001b[0mfcpl\u001b[0m\u001b[0;34m)\u001b[0m\u001b[0;34m\u001b[0m\u001b[0;34m\u001b[0m\u001b[0m\n\u001b[0m\u001b[1;32m    106\u001b[0m     \u001b[0;32melif\u001b[0m \u001b[0mmode\u001b[0m \u001b[0;34m==\u001b[0m \u001b[0;34m'a'\u001b[0m\u001b[0;34m:\u001b[0m\u001b[0;34m\u001b[0m\u001b[0;34m\u001b[0m\u001b[0m\n\u001b[1;32m    107\u001b[0m         \u001b[0;31m# Open in append mode (read/write).\u001b[0m\u001b[0;34m\u001b[0m\u001b[0;34m\u001b[0m\u001b[0;34m\u001b[0m\u001b[0m\n",
            "\u001b[0;32mh5py/_objects.pyx\u001b[0m in \u001b[0;36mh5py._objects.with_phil.wrapper\u001b[0;34m()\u001b[0m\n",
            "\u001b[0;32mh5py/_objects.pyx\u001b[0m in \u001b[0;36mh5py._objects.with_phil.wrapper\u001b[0;34m()\u001b[0m\n",
            "\u001b[0;32mh5py/h5f.pyx\u001b[0m in \u001b[0;36mh5py.h5f.create\u001b[0;34m()\u001b[0m\n",
            "\u001b[0;31mOSError\u001b[0m: Unable to create file (unable to open file: name = 'model_glove_lstm_b.h5', errno = 107, error message = 'Transport endpoint is not connected', flags = 13, o_flags = 242)"
          ]
        }
      ]
    },
    {
      "cell_type": "code",
      "metadata": {
        "id": "P821duKEJ-6Z",
        "colab_type": "code",
        "colab": {}
      },
      "source": [
        "pip install -q pyyaml h5py"
      ],
      "execution_count": 0,
      "outputs": []
    },
    {
      "cell_type": "code",
      "metadata": {
        "id": "6qz9o7ihWnyi",
        "colab_type": "code",
        "colab": {}
      },
      "source": [
        "import os\n",
        "\n",
        "import tensorflow as tf\n",
        "from tensorflow import keras\n",
        "\n",
        "print(tf.version.VERSION)\n",
        "print(keras.__version__)\n"
      ],
      "execution_count": 0,
      "outputs": []
    },
    {
      "cell_type": "code",
      "metadata": {
        "id": "O29Vut7nEUp3",
        "colab_type": "code",
        "colab": {}
      },
      "source": [
        "model.save('model_glove_lstm_b.h5')\n",
        "json_dict = model_glove_lstm_hist.history\n",
        "with open('model_glove_lstm_b_hist.json', 'w') as f:\n",
        "    f.write(str(json_dict))\n",
        "print('File got created')"
      ],
      "execution_count": 0,
      "outputs": []
    },
    {
      "cell_type": "code",
      "metadata": {
        "id": "TOBDeIryAoPX",
        "colab_type": "code",
        "colab": {}
      },
      "source": [
        "from keras.models import load_model\n",
        "model = load_model('/media/prahlad/New Volume/DIAC-WOZ/model_glove_lstm_b.h5')"
      ],
      "execution_count": 0,
      "outputs": []
    },
    {
      "cell_type": "code",
      "metadata": {
        "id": "C-NLsMkDAoPa",
        "colab_type": "code",
        "outputId": "2cff2a10-04a0-4e3d-f900-178c9df6f506",
        "colab": {
          "base_uri": "https://localhost:8080/",
          "height": 1000
        }
      },
      "source": [
        "plot_loss(model_glove_lstm_hist)\n",
        "plot_acc(model_glove_lstm_hist)\n",
        "plot_loss(model_glove_lstm_hist_b)\n",
        "plot_acc(model_glove_lstm_hist_b)"
      ],
      "execution_count": 0,
      "outputs": [
        {
          "output_type": "display_data",
          "data": {
            "image/png": "[encoded data removed]",
            "text/plain": [
              "<Figure size 432x288 with 1 Axes>"
            ]
          },
          "metadata": {
            "tags": []
          }
        },
        {
          "output_type": "display_data",
          "data": {
            "image/png": "[encoded data removed]",
            "text/plain": [
              "<Figure size 432x288 with 1 Axes>"
            ]
          },
          "metadata": {
            "tags": []
          }
        },
        {
          "output_type": "display_data",
          "data": {
            "image/png": "[encoded data removed]",
            "text/plain": [
              "<Figure size 432x288 with 1 Axes>"
            ]
          },
          "metadata": {
            "tags": []
          }
        },
        {
          "output_type": "display_data",
          "data": {
            "image/png": "[encoded data removed]",
            "text/plain": [
              "<Figure size 432x288 with 1 Axes>"
            ]
          },
          "metadata": {
            "tags": []
          }
        }
      ]
    },
    {
      "cell_type": "code",
      "metadata": {
        "id": "qKQZTWvUAoPb",
        "colab_type": "code",
        "colab": {}
      },
      "source": [
        "def test_model(text, model):\n",
        "    print(text)\n",
        "    word_list = text_to_wordlist(text)\n",
        "    sequences = tokenizer.texts_to_sequences([word_list])\n",
        "    sequences_input = list(itertools.chain(*sequences))\n",
        "    sequences_input =  pad_sequences([sequences_input], value=0, padding=\"post\", maxlen=windows_size).tolist()\n",
        "    print(sequences_input)\n",
        "    input_a = np.asarray(sequences_input)\n",
        "    pred = model.predict(input_a, batch_size=None, verbose=0, steps=None)\n",
        "    predicted_class = np.argmax(pred)\n",
        "    print(labels[predicted_class])"
      ],
      "execution_count": 0,
      "outputs": []
    },
    {
      "cell_type": "code",
      "metadata": {
        "id": "8bQ8oEvfAoPd",
        "colab_type": "code",
        "outputId": "db1df8ed-4456-4392-9211-ea3d1769d08d",
        "colab": {
          "base_uri": "https://localhost:8080/",
          "height": 726
        }
      },
      "source": [
        "sen = \"All is going right with the party, I'm happy to know new people\"\n",
        "test_model(sen, model)\n",
        "sen = \"I want an ice cream and have some fries for lunch\"\n",
        "test_model(sen, model)\n",
        "sen = \"I'm afraid of losing my work, I don't have any money\"\n",
        "test_model(sen, model)\n",
        "sen = \"I'm worried about my future, I'm afraid of it\"\n",
        "test_model(sen, model)\n",
        "sen = \"I am a graduate student\"\n",
        "test_model(sen, model)\n",
        "sen = \"I am getting married\"\n",
        "test_model(sen, model)\n",
        "sen = \"This party is great, I know lots of people\"\n",
        "test_model(sen, model)\n",
        "sen = \"I miss my parents, brothers and sisters\"\n",
        "test_model(sen, model)\n",
        "sen = \"I detest my horrible job\"\n",
        "test_model(sen, model)\n",
        "sen = \"suicide\"\n",
        "test_model(sen, model)\n",
        "sen = \"Please kill me\"\n",
        "test_model(sen, model)\n",
        "sen = \"I am depressed\"\n",
        "test_model(sen, model)\n",
        "sen = \"I am scared!!!\"\n",
        "test_model(sen, model)"
      ],
      "execution_count": 0,
      "outputs": [
        {
          "output_type": "stream",
          "text": [
            "All is going right with the party, I'm happy to know new people\n",
            "[[90, 99, 559, 1, 18, 128, 14, 136, 39, 0]]\n",
            "mild\n",
            "I want an ice cream and have some fries for lunch\n",
            "[[193, 2448, 2844, 6711, 4205, 0, 0, 0, 0, 0]]\n",
            "moderate\n",
            "I'm afraid of losing my work, I don't have any money\n",
            "[[1, 18, 774, 902, 108, 211, 0, 0, 0, 0]]\n",
            "moderate\n",
            "I'm worried about my future, I'm afraid of it\n",
            "[[1, 18, 1073, 566, 1, 18, 774, 0, 0, 0]]\n",
            "moderate\n",
            "I am a graduate student\n",
            "[[826, 972, 0, 0, 0, 0, 0, 0, 0, 0]]\n",
            "moderate\n",
            "I am getting married\n",
            "[[147, 440, 0, 0, 0, 0, 0, 0, 0, 0]]\n",
            "moderate\n",
            "This party is great, I know lots of people\n",
            "[[559, 150, 14, 51, 39, 0, 0, 0, 0, 0]]\n",
            "moderate\n",
            "I miss my parents, brothers and sisters\n",
            "[[600, 3938, 294, 291, 0, 0, 0, 0, 0, 0]]\n",
            "moderate\n",
            "I detest my horrible job\n",
            "[[851, 123, 0, 0, 0, 0, 0, 0, 0, 0]]\n",
            "moderate\n",
            "suicide\n",
            "[[3364, 0, 0, 0, 0, 0, 0, 0, 0, 0]]\n",
            "moderate\n",
            "Please kill me\n",
            "[[1522, 1850, 0, 0, 0, 0, 0, 0, 0, 0]]\n",
            "moderate\n",
            "I am depressed\n",
            "[[368, 0, 0, 0, 0, 0, 0, 0, 0, 0]]\n",
            "moderate\n",
            "I am scared!!!\n",
            "[[1687, 0, 0, 0, 0, 0, 0, 0, 0, 0]]\n",
            "moderate\n"
          ],
          "name": "stdout"
        }
      ]
    },
    {
      "cell_type": "code",
      "metadata": {
        "id": "l0odlToqAoPe",
        "colab_type": "code",
        "outputId": "a2dd48d1-fbcd-4561-e0de-0a32d2bb251c",
        "colab": {
          "base_uri": "https://localhost:8080/",
          "height": 454
        }
      },
      "source": [
        "answer_inp = Input(shape=(windows_size, ))\n",
        "embedding_size_glove = 100\n",
        "answer_emb1 = Embedding(vocab_size_stop+1, embedding_size_glove, weights=[embedding_matrix_lp], input_length=windows_size, trainable=False)(answer_inp)\n",
        "\n",
        "\n",
        "lstm1 = LSTM(embedding_size_glove, return_sequences=True, dropout=0.2, recurrent_dropout=0.2)(answer_emb1)\n",
        "lstm2 = LSTM(embedding_size_glove, dropout=0.2, recurrent_dropout=0.2)(lstm1)\n",
        "\n",
        "X = Dropout(0.2)(lstm2)\n",
        "bt = BatchNormalization()(X)\n",
        "dense1 = Dense(units=256, activation=\"relu\")(bt)\n",
        "\n",
        "out = Dense(5,  activation='softmax')(dense1)\n",
        "\n",
        "model_2lstm = Model(inputs=[answer_inp], outputs=[out])\n",
        "model_2lstm.compile(optimizer=\"adam\", loss='categorical_crossentropy', metrics=['accuracy'])\n",
        "model_2lstm.summary()"
      ],
      "execution_count": 0,
      "outputs": [
        {
          "output_type": "stream",
          "text": [
            "Model: \"model_2\"\n",
            "_________________________________________________________________\n",
            "Layer (type)                 Output Shape              Param #   \n",
            "=================================================================\n",
            "input_2 (InputLayer)         (None, 10)                0         \n",
            "_________________________________________________________________\n",
            "embedding_2 (Embedding)      (None, 10, 100)           745000    \n",
            "_________________________________________________________________\n",
            "lstm_2 (LSTM)                (None, 10, 100)           80400     \n",
            "_________________________________________________________________\n",
            "lstm_3 (LSTM)                (None, 100)               80400     \n",
            "_________________________________________________________________\n",
            "dropout_1 (Dropout)          (None, 100)               0         \n",
            "_________________________________________________________________\n",
            "batch_normalization_2 (Batch (None, 100)               400       \n",
            "_________________________________________________________________\n",
            "dense_4 (Dense)              (None, 256)               25856     \n",
            "_________________________________________________________________\n",
            "dense_5 (Dense)              (None, 5)                 1285      \n",
            "=================================================================\n",
            "Total params: 933,341\n",
            "Trainable params: 188,141\n",
            "Non-trainable params: 745,200\n",
            "_________________________________________________________________\n"
          ],
          "name": "stdout"
        }
      ]
    },
    {
      "cell_type": "code",
      "metadata": {
        "id": "Y3dHg3vNAoPh",
        "colab_type": "code",
        "outputId": "2df64938-6a96-4e82-f551-6f87729a8944",
        "colab": {
          "base_uri": "https://localhost:8080/",
          "height": 1000
        }
      },
      "source": [
        "model_glove_2lstm_b_hist = model_2lstm.fit(train_a_b, train_y_b, validation_data=(dev_a_b, dev_y_b), epochs=30, batch_size=64, shuffle=True, callbacks=[early_stopping])"
      ],
      "execution_count": 0,
      "outputs": [
        {
          "output_type": "stream",
          "text": [
            "Train on 64269 samples, validate on 12847 samples\n",
            "Epoch 1/30\n",
            "64269/64269 [==============================] - 48s 746us/step - loss: 1.6233 - acc: 0.2424 - val_loss: 1.5855 - val_acc: 0.2594\n",
            "Epoch 2/30\n",
            "64269/64269 [==============================] - 45s 698us/step - loss: 1.5782 - acc: 0.2766 - val_loss: 1.5537 - val_acc: 0.3002\n",
            "Epoch 3/30\n",
            "64269/64269 [==============================] - 45s 696us/step - loss: 1.5446 - acc: 0.3071 - val_loss: 1.4968 - val_acc: 0.3429\n",
            "Epoch 4/30\n",
            "64269/64269 [==============================] - 45s 696us/step - loss: 1.4889 - acc: 0.3491 - val_loss: 1.4079 - val_acc: 0.4023\n",
            "Epoch 5/30\n",
            "64269/64269 [==============================] - 45s 702us/step - loss: 1.4114 - acc: 0.4037 - val_loss: 1.3271 - val_acc: 0.4435\n",
            "Epoch 6/30\n",
            "64269/64269 [==============================] - 45s 707us/step - loss: 1.3305 - acc: 0.4465 - val_loss: 1.1914 - val_acc: 0.5206\n",
            "Epoch 7/30\n",
            "64269/64269 [==============================] - 45s 705us/step - loss: 1.2539 - acc: 0.4851 - val_loss: 1.1086 - val_acc: 0.5644\n",
            "Epoch 8/30\n",
            "64269/64269 [==============================] - 46s 710us/step - loss: 1.1844 - acc: 0.5189 - val_loss: 1.0289 - val_acc: 0.5988\n",
            "Epoch 9/30\n",
            "64269/64269 [==============================] - 45s 708us/step - loss: 1.1271 - acc: 0.5489 - val_loss: 0.9754 - val_acc: 0.6251\n",
            "Epoch 10/30\n",
            "64269/64269 [==============================] - 47s 730us/step - loss: 1.0769 - acc: 0.5737 - val_loss: 0.9166 - val_acc: 0.6613\n",
            "Epoch 11/30\n",
            "64269/64269 [==============================] - 45s 708us/step - loss: 1.0336 - acc: 0.5931 - val_loss: 0.8514 - val_acc: 0.6834\n",
            "Epoch 12/30\n",
            "64269/64269 [==============================] - 46s 711us/step - loss: 0.9985 - acc: 0.6065 - val_loss: 0.8400 - val_acc: 0.6885\n",
            "Epoch 13/30\n",
            "64269/64269 [==============================] - 46s 708us/step - loss: 0.9670 - acc: 0.6218 - val_loss: 0.7810 - val_acc: 0.7125\n",
            "Epoch 14/30\n",
            "64269/64269 [==============================] - 45s 707us/step - loss: 0.9422 - acc: 0.6325 - val_loss: 0.7587 - val_acc: 0.7146\n",
            "Epoch 15/30\n",
            "64269/64269 [==============================] - 46s 710us/step - loss: 0.9118 - acc: 0.6470 - val_loss: 0.6993 - val_acc: 0.7501\n",
            "Epoch 16/30\n",
            "64269/64269 [==============================] - 45s 705us/step - loss: 0.9009 - acc: 0.6491 - val_loss: 0.6687 - val_acc: 0.7612\n",
            "Epoch 17/30\n",
            "64269/64269 [==============================] - 45s 700us/step - loss: 0.8784 - acc: 0.6605 - val_loss: 0.6426 - val_acc: 0.7691\n",
            "Epoch 18/30\n",
            "64269/64269 [==============================] - 45s 700us/step - loss: 0.8567 - acc: 0.6690 - val_loss: 0.6194 - val_acc: 0.7769\n",
            "Epoch 19/30\n",
            "64269/64269 [==============================] - 46s 708us/step - loss: 0.8343 - acc: 0.6797 - val_loss: 0.6137 - val_acc: 0.7844\n",
            "Epoch 20/30\n",
            "64269/64269 [==============================] - 45s 700us/step - loss: 0.8286 - acc: 0.6828 - val_loss: 0.5849 - val_acc: 0.7937\n",
            "Epoch 21/30\n",
            "64269/64269 [==============================] - 45s 701us/step - loss: 0.8077 - acc: 0.6915 - val_loss: 0.5695 - val_acc: 0.8038\n",
            "Epoch 22/30\n",
            "64269/64269 [==============================] - 45s 704us/step - loss: 0.7991 - acc: 0.6948 - val_loss: 0.5380 - val_acc: 0.8124\n",
            "Epoch 23/30\n",
            "64269/64269 [==============================] - 46s 723us/step - loss: 0.7828 - acc: 0.7031 - val_loss: 0.5385 - val_acc: 0.8169\n",
            "Epoch 24/30\n",
            "64269/64269 [==============================] - 45s 702us/step - loss: 0.7746 - acc: 0.7054 - val_loss: 0.5209 - val_acc: 0.8215\n",
            "Epoch 25/30\n",
            "64269/64269 [==============================] - 45s 701us/step - loss: 0.7635 - acc: 0.7087 - val_loss: 0.5088 - val_acc: 0.8249\n",
            "Epoch 26/30\n",
            "64269/64269 [==============================] - 45s 701us/step - loss: 0.7523 - acc: 0.7144 - val_loss: 0.4796 - val_acc: 0.8339\n",
            "Epoch 27/30\n",
            "64269/64269 [==============================] - 45s 707us/step - loss: 0.7464 - acc: 0.7171 - val_loss: 0.4679 - val_acc: 0.8372\n",
            "Epoch 28/30\n",
            "64269/64269 [==============================] - 45s 704us/step - loss: 0.7325 - acc: 0.7229 - val_loss: 0.4703 - val_acc: 0.8445\n",
            "Epoch 29/30\n",
            "64269/64269 [==============================] - 45s 703us/step - loss: 0.7277 - acc: 0.7256 - val_loss: 0.4638 - val_acc: 0.8413\n",
            "Epoch 30/30\n",
            "64269/64269 [==============================] - 45s 701us/step - loss: 0.7218 - acc: 0.7292 - val_loss: 0.4423 - val_acc: 0.8516\n"
          ],
          "name": "stdout"
        }
      ]
    },
    {
      "cell_type": "code",
      "metadata": {
        "id": "c4HfaDbVAoPj",
        "colab_type": "code",
        "outputId": "ba6ec41d-5dff-403e-f89e-2a4bd40b70e0",
        "colab": {
          "base_uri": "https://localhost:8080/",
          "height": 573
        }
      },
      "source": [
        "plot_loss(model_glove_2lstm_b_hist)\n",
        "plot_acc(model_glove_2lstm_b_hist)"
      ],
      "execution_count": 0,
      "outputs": [
        {
          "output_type": "display_data",
          "data": {
            "image/png": "[encoded data removed]",
            "text/plain": [
              "<Figure size 432x288 with 1 Axes>"
            ]
          },
          "metadata": {
            "tags": []
          }
        },
        {
          "output_type": "display_data",
          "data": {
            "image/png": "[encoded data removed]",
            "text/plain": [
              "<Figure size 432x288 with 1 Axes>"
            ]
          },
          "metadata": {
            "tags": []
          }
        }
      ]
    },
    {
      "cell_type": "code",
      "metadata": {
        "id": "l5HUNLiwAoPk",
        "colab_type": "code",
        "outputId": "ea420e8c-6522-4fe1-cedb-390372bcb136",
        "colab": {
          "base_uri": "https://localhost:8080/",
          "height": 54
        }
      },
      "source": [
        "score = model_2lstm.evaluate(test_a_b, test_y_b, verbose=0)\n",
        "print('Test loss:', score[0])\n",
        "print('Test accuracy:', score[1])"
      ],
      "execution_count": 0,
      "outputs": [
        {
          "output_type": "stream",
          "text": [
            "Test loss: 0.4467240418138958\n",
            "Test accuracy: 0.8504761904924094\n"
          ],
          "name": "stdout"
        }
      ]
    },
    {
      "cell_type": "code",
      "metadata": {
        "id": "RrC15pQOAoPo",
        "colab_type": "code",
        "colab": {}
      },
      "source": [
        "df_confusion = confusion_matrix(model_2lstm, test_a_b, test_y_b)"
      ],
      "execution_count": 0,
      "outputs": []
    },
    {
      "cell_type": "code",
      "metadata": {
        "id": "Pme6rz_VAoPq",
        "colab_type": "code",
        "outputId": "966227ce-7941-4c1d-fa0b-9b3e8b468f8f",
        "colab": {
          "base_uri": "https://localhost:8080/",
          "height": 228
        }
      },
      "source": [
        "df_confusion\n"
      ],
      "execution_count": 0,
      "outputs": [
        {
          "output_type": "execute_result",
          "data": {
            "text/html": [
              "<div>\n",
              "<style scoped>\n",
              "    .dataframe tbody tr th:only-of-type {\n",
              "        vertical-align: middle;\n",
              "    }\n",
              "\n",
              "    .dataframe tbody tr th {\n",
              "        vertical-align: top;\n",
              "    }\n",
              "\n",
              "    .dataframe thead th {\n",
              "        text-align: right;\n",
              "    }\n",
              "</style>\n",
              "<table border=\"1\" class=\"dataframe\">\n",
              "  <thead>\n",
              "    <tr style=\"text-align: right;\">\n",
              "      <th>col_0</th>\n",
              "      <th>none</th>\n",
              "      <th>mild</th>\n",
              "      <th>moderate</th>\n",
              "      <th>moderately severe</th>\n",
              "      <th>severe</th>\n",
              "    </tr>\n",
              "    <tr>\n",
              "      <th>row_0</th>\n",
              "      <th></th>\n",
              "      <th></th>\n",
              "      <th></th>\n",
              "      <th></th>\n",
              "      <th></th>\n",
              "    </tr>\n",
              "  </thead>\n",
              "  <tbody>\n",
              "    <tr>\n",
              "      <th>none</th>\n",
              "      <td>3209</td>\n",
              "      <td>109</td>\n",
              "      <td>116</td>\n",
              "      <td>53</td>\n",
              "      <td>73</td>\n",
              "    </tr>\n",
              "    <tr>\n",
              "      <th>mild</th>\n",
              "      <td>172</td>\n",
              "      <td>2118</td>\n",
              "      <td>108</td>\n",
              "      <td>49</td>\n",
              "      <td>72</td>\n",
              "    </tr>\n",
              "    <tr>\n",
              "      <th>moderate</th>\n",
              "      <td>174</td>\n",
              "      <td>148</td>\n",
              "      <td>2924</td>\n",
              "      <td>82</td>\n",
              "      <td>93</td>\n",
              "    </tr>\n",
              "    <tr>\n",
              "      <th>moderately severe</th>\n",
              "      <td>204</td>\n",
              "      <td>127</td>\n",
              "      <td>124</td>\n",
              "      <td>2233</td>\n",
              "      <td>121</td>\n",
              "    </tr>\n",
              "    <tr>\n",
              "      <th>severe</th>\n",
              "      <td>114</td>\n",
              "      <td>82</td>\n",
              "      <td>94</td>\n",
              "      <td>83</td>\n",
              "      <td>2018</td>\n",
              "    </tr>\n",
              "  </tbody>\n",
              "</table>\n",
              "</div>"
            ],
            "text/plain": [
              "col_0              none  mild  moderate  moderately severe  severe\n",
              "row_0                                                             \n",
              "none               3209   109       116                 53      73\n",
              "mild                172  2118       108                 49      72\n",
              "moderate            174   148      2924                 82      93\n",
              "moderately severe   204   127       124               2233     121\n",
              "severe              114    82        94                 83    2018"
            ]
          },
          "metadata": {
            "tags": []
          },
          "execution_count": 94
        }
      ]
    },
    {
      "cell_type": "code",
      "metadata": {
        "id": "rsXGUBV8fB2h",
        "colab_type": "code",
        "colab": {}
      },
      "source": [
        "pip uninstall h5py"
      ],
      "execution_count": 0,
      "outputs": []
    },
    {
      "cell_type": "code",
      "metadata": {
        "id": "tXrlEgqhfOO9",
        "colab_type": "code",
        "colab": {}
      },
      "source": [
        "pip install h5py==2.7.1"
      ],
      "execution_count": 0,
      "outputs": []
    },
    {
      "cell_type": "code",
      "metadata": {
        "id": "csNOJNoJAoPr",
        "colab_type": "code",
        "colab": {}
      },
      "source": [
        "model.save('model_glove_2lstm_b.h5')\n",
        "json_dict = model_glove_2lstm_b_hist.history\n",
        "with open('model_glove_2lstm_b_hist.json', 'w') as f:\n",
        "    f.write(str(json_dict))\n",
        "print('File got created')"
      ],
      "execution_count": 0,
      "outputs": []
    },
    {
      "cell_type": "code",
      "metadata": {
        "id": "XUu1DmzCAoPt",
        "colab_type": "code",
        "colab": {}
      },
      "source": [
        "sen = \"All is going right with the party, I'm happy to know new people\"\n",
        "test_model(sen, model_2lstm)\n",
        "sen = \"I want an ice cream and have some fries for lunch\"\n",
        "test_model(sen, model_2lstm)\n",
        "sen = \"I'm afraid of losing my work, I don't have any money\"\n",
        "test_model(sen, model_2lstm)\n",
        "sen = \"I'm worried about my future, I'm afraid of it\"\n",
        "test_model(sen, model_2lstm)\n",
        "sen = \"My father loves me\"\n",
        "test_model(sen, model_2lstm)"
      ],
      "execution_count": 0,
      "outputs": []
    },
    {
      "cell_type": "code",
      "metadata": {
        "id": "APqHsaybAoPv",
        "colab_type": "code",
        "colab": {}
      },
      "source": [
        "sen = \"Please kill me\"\n",
        "test_model(sen, model_2lstm)"
      ],
      "execution_count": 0,
      "outputs": []
    },
    {
      "cell_type": "code",
      "metadata": {
        "id": "PmifWa83AoPx",
        "colab_type": "code",
        "colab": {}
      },
      "source": [
        "sen = \"I am depressed\"\n",
        "test_model(sen, model_2lstm)"
      ],
      "execution_count": 0,
      "outputs": []
    },
    {
      "cell_type": "code",
      "metadata": {
        "id": "dA37D9F-AoP0",
        "colab_type": "code",
        "colab": {}
      },
      "source": [
        "sen = \"life is hell\"\n",
        "test_model(sen, model_2lstm)"
      ],
      "execution_count": 0,
      "outputs": []
    }
  ]
}